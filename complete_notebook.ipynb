{
 "cells": [
  {
   "cell_type": "markdown",
   "metadata": {},
   "source": [
    "This Jupyter Notebook simulates the following:\n",
    "- Generates three model planets: Uniform, limb-darkened and a volcano model.\n",
    "- Simulates an occultation via the slicing method outlined in the report.\n",
    "- Plots the lightcurve and generates JWST data.\n",
    "- Reconstructs an image from the lightcurve.\n",
    "\n",
    "To run a slice, all above slices must also have been run such that the Kernal contains the necessary information. This may be optimised further to not require this process at some stage in the future.\n",
    "\n",
    "It is highly recommended to choose 'run all' - allowing ~10 minutes for the entire notebook to complete."
   ]
  },
  {
   "cell_type": "markdown",
   "metadata": {
    "nbpresent": {
     "id": "ecb69068-6129-4ad0-aa08-46bef73f732e"
    }
   },
   "source": [
    "# Import and Initialise"
   ]
  },
  {
   "cell_type": "code",
   "execution_count": 2,
   "metadata": {
    "nbpresent": {
     "id": "4e3a7e24-0100-4a50-8367-e24706991186"
    }
   },
   "outputs": [],
   "source": [
    "# Imports the necessary modules.\n",
    "import matplotlib.pyplot as plt\n",
    "import numpy as np\n",
    "from astropy.io import fits\n",
    "from astropy.utils.data import download_file\n",
    "from time import time\n",
    "from sys import stdout\n",
    "import matplotlib.ticker as mticker\n",
    "from scipy.interpolate import interp1d\n",
    "pi=np.pi"
   ]
  },
  {
   "cell_type": "code",
   "execution_count": 3,
   "metadata": {},
   "outputs": [],
   "source": [
    "# Defines the Trappist-1 Values: \n",
    "R_Earth=6.3781e6\n",
    "R_Sun=6.957e8\n",
    "AU=1.5e11\n",
    "T_S=2559\n",
    "P=1.51087081*(3600*24)\n",
    "R_S=0.117*R_Sun\n",
    "R_P=1.086*R_Earth\n",
    "a=11.11e-3*AU\n",
    "inc=89.65\n",
    "velocity = 2*pi*a/P\n",
    "t_transit=36.4*60\n",
    "b=0.126\n",
    "trans_duration=36.4*60\n",
    "scale_param=20.50\n",
    "k=R_P/R_S"
   ]
  },
  {
   "cell_type": "markdown",
   "metadata": {
    "nbpresent": {
     "id": "494e99f1-4c86-4058-9da1-6e1601f03815"
    }
   },
   "source": [
    "# Generate Model"
   ]
  },
  {
   "cell_type": "markdown",
   "metadata": {
    "nbpresent": {
     "id": "e63b76c7-c7a3-4909-a48c-bb8cc62d0b5f"
    }
   },
   "source": [
    "## With and without volcano\n",
    "\n",
    "This will generate three models, both with and without a volcano, whilst simultaneously maintaining the flux between each model."
   ]
  },
  {
   "cell_type": "code",
   "execution_count": 4,
   "metadata": {
    "nbpresent": {
     "id": "e20639f5-3e0b-4633-a77b-dfb58fab6628"
    }
   },
   "outputs": [
    {
     "name": "stdout",
     "output_type": "stream",
     "text": [
      "Starting image generation ...\n",
      "areas: 70685.8347058 1696460.03294\n",
      "Nratio:  0.1 totalconstant:  1178096106.47\n",
      "Adding specified offset ...\n",
      "Filename: generatedimage1521806665.37.fits\n",
      "No.    Name      Ver    Type      Cards   Dimensions   Format\n",
      "  0  PRIMARY       1 PrimaryHDU       6   (1500, 1500)   float64   \n",
      "<type 'numpy.ndarray'>\n",
      "(1500, 1500)\n"
     ]
    },
    {
     "data": {
      "image/png": "[encoded data removed]",
      "text/plain": [
       "<matplotlib.figure.Figure at 0x112b15c50>"
      ]
     },
     "metadata": {},
     "output_type": "display_data"
    },
    {
     "name": "stdout",
     "output_type": "stream",
     "text": [
      "Success.\n"
     ]
    }
   ],
   "source": [
    "### Constants for the model image:\n",
    "x_dimension=1500\n",
    "y_dimension=1500\n",
    "\n",
    "# The flux values are arbitrary:\n",
    "peak_flux=1000\n",
    "total_flux=1e9\n",
    "###\n",
    "\n",
    "###Volcano constants:\n",
    "enable_volcano=True # Enables a volcano on the third model.\n",
    "enable_hollow=False # Enables a hollow circular volcano.\n",
    "use_flux_ratios=True # Enables a ratio to be set defining how bright the volcano is wrt the entire planet.\n",
    "N_volcanoes=1 # Defines the number of volcanoes.\n",
    "if N_volcanoes>1 and enable_hollow==True: raise Exception\n",
    "    \n",
    "# Define the width of each volcano, and the hollow centre if using a circular feature.\n",
    "x_width_volcano=300.\n",
    "y_width_volcano=300.\n",
    "x_width_vol_hollow=600.\n",
    "y_width_vol_hollow=600.\n",
    "\n",
    "# Define the location of each volcano. This is measured from the centre.\n",
    "# Due to coding challenges, the value you entre is double the distance. IE: x=1000 plots x=500.\n",
    "x_offset=[750.]\n",
    "y_offset=[0.]\n",
    "if (len(x_offset) != len(y_offset)) or (N_volcanoes!=len(y_offset)): raise Exception('Number of volcanoes error...')\n",
    "    \n",
    "# If using flux ratios, define it here:\n",
    "Nratio=0.1\n",
    "\n",
    "# Defines and plots the circle of the planet.\n",
    "fig, ax = plt.subplots()\n",
    "plt.axis([0,x_dimension,0,y_dimension])\n",
    "x_min = 0\n",
    "x_max = x_dimension\n",
    "y_min = 0\n",
    "y_max = y_dimension\n",
    "circle_x = (x_max-x_min)/2.\n",
    "circle_y = (y_max-y_min)/2.\n",
    "circ=plt.Circle((circle_x,circle_y), radius=x_dimension/2., color='c', fill=False)\n",
    "ax.add_artist(circ)\n",
    "\n",
    "# Plots the volcanoes:\n",
    "loopvar={}\n",
    "for i in range(N_volcanoes):\n",
    "    loopvar[\"x_min{0}\".format(i)]=0\n",
    "    loopvar[\"x_max{0}\".format(i)]=x_dimension+x_offset[i]\n",
    "    loopvar[\"y_min{0}\".format(i)]=0\n",
    "    loopvar[\"y_max{0}\".format(i)]=y_dimension+y_offset[i]\n",
    "    #x_min2 = 0\n",
    "    #x_max2 = x_dimension+x_offset2\n",
    "    #y_min2 = 0\n",
    "    #y_max2 = y_dimension+y_offset2\n",
    "    loopvar[\"circle_x{0}\".format(i)]=(loopvar[\"x_max\"+str(i)]-loopvar[\"x_min\"+str(i)])/2.\n",
    "    loopvar[\"circle_y{0}\".format(i)]=(loopvar[\"y_max\"+str(i)]-loopvar[\"y_min\"+str(i)])/2.\n",
    "    #circle_x2 = (x_max2-x_min2)/2.\n",
    "    #circle_y2 = (y_max2-y_min2)/2.\n",
    "    circ=plt.Circle((loopvar[\"circle_x\"+str(i)],loopvar[\"circle_y\"+str(i)]), radius=x_width_volcano/2., color='r', fill=False)\n",
    "    ax.add_artist(circ)\n",
    "\n",
    "# If hollow enabled, plot the hollow circle.\n",
    "if enable_hollow == True:\n",
    "    x_minh = 0\n",
    "    x_maxh = x_dimension+x_offset[0]\n",
    "    y_minh = 0\n",
    "    y_maxh = y_dimension+y_offset[0]\n",
    "    circle_xh = (x_maxh-x_minh)/2.\n",
    "    circle_yh = (y_maxh-y_minh)/2.\n",
    "    circh=plt.Circle((circle_xh,circle_yh), radius=x_width_vol_hollow/2., color='m', fill=False)\n",
    "    ax.add_artist(circh)\n",
    "else:\n",
    "    x_width_vol_hollow, y_width_vol_hollow, circle_xh, circle_yh = 0,0,0,0\n",
    "\n",
    "# Initialise variables to generate models.\n",
    "# uniform = limb-darkened\n",
    "# nolimb = non-limb-darkened\n",
    "test_amount, nDone, total_pixels, test=0, 0, 0, 0\n",
    "x, y=[0,0], [0,0]\n",
    "stime = time()\n",
    "values_test = np.zeros(shape=(x_dimension,y_dimension))\n",
    "values_test_nolimb = np.zeros(shape=(x_dimension,y_dimension))\n",
    "values_test_uniform = np.zeros(shape=(x_dimension,y_dimension))\n",
    "values_test_novol = np.zeros(shape=(x_dimension,y_dimension))\n",
    "radius=x_dimension/2.\n",
    "\n",
    "# Begin model generation\n",
    "print \"Starting image generation ...\"\n",
    "\n",
    "for i in range(x_dimension): #loop through x pixels\n",
    "    for j in range(y_dimension): #loop through y pixels\n",
    "        d=(i - circle_x)**2 + (j - circle_y)**2 #calculate distance of pixel to circle centre\n",
    "        if d**0.5 < x_dimension/2.: #determine if distance lies within radial size of planet\n",
    "            theta=np.arcsin(d**0.5/radius) #calculate angular distance\n",
    "            values_test[i,j]=np.cos(theta)*(peak_flux) #assign cos limb darkening law from centre\n",
    "            for k in range(N_volcanoes): #determine flux of planet outside of volcano regions\n",
    "                d=(i - loopvar[\"circle_x\"+str(k)])**2 + (j - loopvar[\"circle_y\"+str(k)])**2 \n",
    "                d_hollow=(i - circle_xh)**2 + (j - circle_yh)**2\n",
    "                if d**0.5 < x_width_volcano/2. and d_hollow**0.5 >= x_width_vol_hollow/2.: continue\n",
    "                else: values_test_novol[i,j]=np.cos(theta)*(peak_flux)\n",
    "\n",
    "\n",
    "# Determine ratio of planet and volcano if using ratio method:\n",
    "total_constant=np.sum(values_test.flat)\n",
    "if use_flux_ratios==False: volcano_flux=1500\n",
    "elif use_flux_ratios==True:\n",
    "    volcanoarea=pi*(x_width_volcano/2)**2\n",
    "    planetarea=pi*(x_dimension/2)**2-volcanoarea\n",
    "    print \"areas:\",volcanoarea,planetarea\n",
    "    integrated_area=np.sum(values_test_novol.flat)\n",
    "    if Nratio!=1 and Nratio!=0:\n",
    "        volcano_flux=Nratio*total_constant\n",
    "        volcano_flux_pp=volcano_flux/volcanoarea\n",
    "        planet_flux=total_constant*(1-Nratio)\n",
    "        ratio_flux=planet_flux/integrated_area\n",
    "    elif Nratio==1:\n",
    "        planet_flux=0\n",
    "        volcano_flux=total_constant\n",
    "        volcano_flux_pp=volcano_flux/volcanoarea\n",
    "        planet_flux=total_constant*(1-Nratio)\n",
    "        ratio_flux=planet_flux/integrated_area\n",
    "    elif Nratio==0:\n",
    "        planet_flux=total_constant\n",
    "        volcano_flux_pp,volcano_flux=0,0\n",
    "        planet_flux=total_constant*(1-Nratio)\n",
    "        ratio_flux=planet_flux/integrated_area\n",
    "    print \"Nratio: \", Nratio, \"totalconstant: \", total_constant\n",
    "    \n",
    "    for i in range(x_dimension): #loop through x pixels\n",
    "        for j in range(y_dimension): #loop through y pixels\n",
    "            d=(i - circle_x)**2 + (j - circle_y)**2 #calculate distance of pixel to circle centre\n",
    "            if d**0.5 < x_dimension/2.: #determine if distance lies within radial size of planet\n",
    "                #newvalue=values_test[i,j]+delta_flux_pp\n",
    "                #if newvalue>=0: values_test[i,j] = newvalue\n",
    "                #else: values_test[i,j] = 0.0\n",
    "                values_test[i,j]=values_test[i,j]*ratio_flux\n",
    "else: raise Exception('Volcano flux not set...')\n",
    "        \n",
    "# Repeat process for volcano location\n",
    "if enable_volcano==True:\n",
    "    print \"Adding specified offset ...\" \n",
    "    pixelcounter=0.0\n",
    "    pixelcounter2=0.0\n",
    "    for i in range(x_dimension):\n",
    "        for j in range(y_dimension):\n",
    "            for k in range(N_volcanoes):\n",
    "                d=(i - loopvar[\"circle_x\"+str(k)])**2 + (j - loopvar[\"circle_y\"+str(k)])**2 \n",
    "                d_hollow=(i - circle_xh)**2 + (j - circle_yh)**2\n",
    "                if d**0.5 < x_width_volcano/2. and d_hollow**0.5 >= x_width_vol_hollow/2.:\n",
    "                    pixelcounter+=volcano_flux_pp-values_test[i,j]\n",
    "    # Determines extra flux per pixel to add to other models so the total flux is equal.\n",
    "    extra_flux=pixelcounter/(pi*(x_dimension*0.5)**2) \n",
    "else:\n",
    "    extra_flux=0\n",
    "            \n",
    "# Add the extra flux to the limb-darkened planet\n",
    "for i in range(x_dimension):\n",
    "    for j in range(y_dimension):\n",
    "        d=(i - circle_x)**2 + (j - circle_y)**2 \n",
    "        if d**0.5 < x_dimension/2.: \n",
    "            values_test_uniform[i,j]=values_test[i,j]+extra_flux\n",
    "        \n",
    "# Determine the average flux value and assign this for the no-limb-darkening planet\n",
    "average_flux_value=np.sum(values_test_uniform.flat)/(pi*(x_dimension/2.)**2)\n",
    "\n",
    "# Generate no-limb planet\n",
    "for i in range(x_dimension): \n",
    "    for j in range(y_dimension): \n",
    "        d=(i - circle_x)**2 + (j - circle_y)**2 \n",
    "        if d**0.5 < x_dimension/2.:\n",
    "            values_test_nolimb[i,j]=average_flux_value\n",
    "            \n",
    "# Save model fits files\n",
    "values_test1 = np.transpose(values_test_uniform)\n",
    "hdu = fits.PrimaryHDU(values_test1)\n",
    "hdu.writeto('uniformimage'+str(stime)+'.fits')\n",
    "model_image_uniform='uniformimage'+str(stime)+'.fits'\n",
    "\n",
    "values_test_nolimb = np.transpose(values_test_nolimb)\n",
    "hdu = fits.PrimaryHDU(values_test_nolimb)\n",
    "hdu.writeto('nolimbimage'+str(stime)+'.fits')\n",
    "model_image_nolimb='nolimbimage'+str(stime)+'.fits'\n",
    "\n",
    "# Finally generate the volcano model\n",
    "if enable_volcano==True:\n",
    "    for i in range(x_dimension):\n",
    "        for j in range(y_dimension):\n",
    "            d_cent=(i - circle_x)**2 + (j - circle_y)**2\n",
    "            for k in range(N_volcanoes):\n",
    "                d=(i - loopvar[\"circle_x\"+str(k)])**2 + (j - loopvar[\"circle_y\"+str(k)])**2 \n",
    "                d_hollow=(i - circle_xh)**2 + (j - circle_yh)**2\n",
    "                if d**0.5 < x_width_volcano/2. and d_hollow**0.5 >= x_width_vol_hollow/2.:\n",
    "                    values_test[i,j]=volcano_flux_pp\n",
    "\n",
    "# Save planet with attached volcano as a fits file\n",
    "values_test2 = np.transpose(values_test)\n",
    "hdu = fits.PrimaryHDU(values_test2)\n",
    "hdu.writeto('generatedimage'+str(stime)+'.fits')\n",
    "model_image='generatedimage'+str(stime)+'.fits'\n",
    "\n",
    "# Open and display the image for testing\n",
    "hdu_list = fits.open('generatedimage'+str(stime)+'.fits')\n",
    "hdu_list.info()\n",
    "image_data = hdu_list[0].data\n",
    "print(type(image_data))\n",
    "print(image_data.shape)\n",
    "hdu_list.close()\n",
    "plt.imshow(image_data, cmap='gray')\n",
    "\n",
    "plt.savefig('combination_init.pdf')\n",
    "plt.show()\n",
    "\n",
    "print \"Success.\""
   ]
  },
  {
   "cell_type": "markdown",
   "metadata": {},
   "source": [
    "Once the model planets are generated, the Nratio that the user entered and the true ratio is determined as a verification step."
   ]
  },
  {
   "cell_type": "code",
   "execution_count": 5,
   "metadata": {},
   "outputs": [
    {
     "name": "stdout",
     "output_type": "stream",
     "text": [
      "0.0999683783594\n",
      "0.1\n"
     ]
    }
   ],
   "source": [
    "testarea1=0.\n",
    "testarea2=0.\n",
    "if enable_volcano==True:\n",
    "    for i in range(x_dimension):\n",
    "        for j in range(y_dimension):\n",
    "            for k in range(N_volcanoes):\n",
    "                d=(i - loopvar[\"circle_x\"+str(k)])**2 + (j - loopvar[\"circle_y\"+str(k)])**2 \n",
    "                d_hollow=(i - circle_xh)**2 + (j - circle_yh)**2\n",
    "                if d**0.5 < x_width_volcano/2. and d_hollow**0.5 >= x_width_vol_hollow/2.:\n",
    "                    testarea1+=values_test[i,j]\n",
    "                elif k==0:\n",
    "                    testarea2+=values_test[i,j]\n",
    "                    \n",
    "print testarea1/(testarea1+testarea2)\n",
    "print Nratio"
   ]
  },
  {
   "cell_type": "markdown",
   "metadata": {
    "nbpresent": {
     "id": "dfe686e2-2fc8-4969-97bd-d1119350b4cd"
    }
   },
   "source": [
    "## End Image Generation"
   ]
  },
  {
   "cell_type": "markdown",
   "metadata": {
    "nbpresent": {
     "id": "791aac36-a4a6-40fc-b44f-283b7ff10bb7"
    }
   },
   "source": [
    "# Ingress Slicing"
   ]
  },
  {
   "cell_type": "markdown",
   "metadata": {},
   "source": [
    "This section performs the ingress slicing for each planet, which will save three text files to be used when plotting the final lightcurve.\n",
    "\n",
    "Each section of code must be run in order as each will use values stored in the ipynb kernal."
   ]
  },
  {
   "cell_type": "code",
   "execution_count": 6,
   "metadata": {},
   "outputs": [
    {
     "name": "stdout",
     "output_type": "stream",
     "text": [
      "10180195.8217 10180005.8821\n"
     ]
    }
   ],
   "source": [
    "print a*np.tan(((pi)/2)-(inc*pi/180)), a*np.cos(inc*pi/180)"
   ]
  },
  {
   "cell_type": "code",
   "execution_count": 7,
   "metadata": {
    "nbpresent": {
     "id": "2c66e496-87df-48da-9ef3-45701e6bd8ca"
    }
   },
   "outputs": [
    {
     "name": "stdout",
     "output_type": "stream",
     "text": [
      "-82.8154177558\n"
     ]
    }
   ],
   "source": [
    "# Define the number of slices for ingress, egress and reconstruction stages.\n",
    "Nslices=50\n",
    "\n",
    "# Set up slicing by calculating the slicing angle and defining file locations\n",
    "try: angle=-np.abs(np.arccos(a*np.cos(inc*pi/180)/R_S))\n",
    "except Exception as e:\n",
    "    print e\n",
    "    print \"Setting angle as 0\"\n",
    "    angle = 0\n",
    "print angle*180./pi\n",
    "image_limits = True\n",
    "URL='http://data.astropy.org/tutorials/FITS-images/HorseHead.fits'\n",
    "file_location=model_image\n",
    "file_uniformlocation=model_image_uniform\n",
    "file_nolimblocation=model_image_nolimb\n",
    "debugging_enabled = False\n",
    "\n",
    "# If file location is set to None, a .fits file can be downloaded from a URL if needed\n",
    "# to replace the volcano model.\n",
    "if file_location == None:\n",
    "    image_file = download_file(URL, cache=True )\n",
    "else:\n",
    "    image_file = file_location\n",
    "    image_file_uniform=file_uniformlocation\n",
    "    image_file_nolimb=file_nolimblocation"
   ]
  },
  {
   "cell_type": "code",
   "execution_count": 8,
   "metadata": {
    "nbpresent": {
     "id": "c82e895f-bac7-4607-a1e3-6252872c42c2"
    }
   },
   "outputs": [
    {
     "name": "stdout",
     "output_type": "stream",
     "text": [
      "Filename: generatedimage1521806665.37.fits\n",
      "No.    Name      Ver    Type      Cards   Dimensions   Format\n",
      "  0  PRIMARY       1 PrimaryHDU       6   (1500, 1500)   float64   \n",
      "<type 'numpy.ndarray'>\n",
      "(1500, 1500)\n",
      "('Min:', 0.0)\n",
      "('Max:', 1666.6650558464853)\n",
      "('Mean:', 523.57987348364543)\n",
      "('Stdev:', 381.78354127732854)\n"
     ]
    }
   ],
   "source": [
    "# Open the futs images to slicing\n",
    "hdu_list = fits.open(image_file)\n",
    "hdu_list.info()\n",
    "image_data = hdu_list[0].data\n",
    "hdu_list_uniform = fits.open(image_file_uniform)\n",
    "image_data_uniform = hdu_list_uniform[0].data\n",
    "hdu_list_nolimb = fits.open(image_file_nolimb)\n",
    "image_data_nolimb = hdu_list_nolimb[0].data\n",
    "print(type(image_data))\n",
    "print(image_data.shape) #Prints array dimensions\n",
    "hdu_list.close()\n",
    "plt.imshow(image_data, cmap='gray')\n",
    "plt.colorbar()\n",
    "\n",
    "# Transpose array, as numpy uses inverted axes for 2-dimensional arrays.\n",
    "image_data = np.transpose(image_data)\n",
    "image_data_uniform = np.transpose(image_data_uniform)\n",
    "image_data_nolimb = np.transpose(image_data_nolimb)\n",
    "\n",
    "if image_limits == True: #Apply limits on output figure\n",
    "    plt.xlim(0,image_data.shape[0])\n",
    "    plt.ylim(0,image_data.shape[1])\n",
    "\n",
    "# Display image information\n",
    "print('Min:', np.min(image_data))\n",
    "print('Max:', np.max(image_data))\n",
    "print('Mean:', np.mean(image_data))\n",
    "print('Stdev:', np.std(image_data))"
   ]
  },
  {
   "cell_type": "code",
   "execution_count": 9,
   "metadata": {
    "nbpresent": {
     "id": "8dfbd980-577f-4976-b833-7827cf4c1990"
    }
   },
   "outputs": [
    {
     "name": "stdout",
     "output_type": "stream",
     "text": [
      "-1.44540171125 3.01619803805\n",
      "-33.5164395503\n",
      "values_test shape =  (1500, 1500)\n"
     ]
    }
   ],
   "source": [
    "# Calculate angles and parameters to perform slicing\n",
    "angle2=(pi/2)-angle\n",
    "print angle,angle2\n",
    "deficit=image_data.shape[1]-np.abs(np.tan(angle2))*image_data.shape[0]\n",
    "if angle != -pi/4 and angle != 0: extra_length=deficit*np.cos(angle)\n",
    "elif angle == -pi/4 or angle == 0: extra_length=0\n",
    "if angle == -pi/2: slice_length=round(image_data.shape[0]*1./Nslices)\n",
    "else: slice_length=(((image_data.shape[0]*1.0)/np.cos(angle2))-extra_length)/Nslices\n",
    "print slice_length\n",
    "\n",
    "# Create arrays for slicing to store integrated flux values\n",
    "bin_values=[]\n",
    "bin_values_uniform=[]\n",
    "bin_values_nolimb=[]\n",
    "values_test = np.zeros(shape=(image_data.shape[0],image_data.shape[1]))\n",
    "print \"values_test shape = \", values_test.shape\n",
    "\n",
    "# Initiate variables for slicing\n",
    "test_amount, total_amount,total_amount_uniform,total_amount_nolimb = 0,0,0,0\n",
    "ingress_locations=[]\n",
    "ingress_locations2=[0,0]\n",
    "stime = time()\n",
    "file_out = open('techspecs.txt','w')\n",
    "file_out.write('Nslices;angle;slice_length;x;y' + '\\n')\n",
    "file_out.write(str(Nslices)+';'+str(angle)+';'+str(slice_length)+';'+str(image_data.shape[0])+';'+str(image_data.shape[1])+ '\\n')\n",
    "file_out.close()"
   ]
  },
  {
   "cell_type": "markdown",
   "metadata": {
    "nbpresent": {
     "id": "35265f72-e3b9-4a25-8b3d-d9e5108b1fc3"
    }
   },
   "source": [
    "## Begin slicing"
   ]
  },
  {
   "cell_type": "markdown",
   "metadata": {},
   "source": [
    "Begin the ingress slicing and repeat for all three models."
   ]
  },
  {
   "cell_type": "code",
   "execution_count": 10,
   "metadata": {
    "nbpresent": {
     "id": "4b6ffb80-e1ec-41b0-9003-ae78a4e079a1"
    }
   },
   "outputs": [
    {
     "name": "stdout",
     "output_type": "stream",
     "text": [
      "100.000%  0:00:00.00 left                    [0, 0]\n"
     ]
    }
   ],
   "source": [
    "# Define slicing function so it can be called for all models.\n",
    "def ingress_slicing(angle,angle2,slice_length,uniform,timingtest,Nslices=None):\n",
    "    \n",
    "    # Initialise variables for looping\n",
    "    current_bin=0\n",
    "    nDone, test=0, 0\n",
    "    location_found=False\n",
    "    x, y=[0,0], [0,0]\n",
    "\n",
    "    # Loop through each slice\n",
    "    for l in range(Nslices):\n",
    "\n",
    "        # If not at the final slice, determine the coordinate position to draw the slicing line\n",
    "        if l != Nslices :\n",
    "            linelength=(image_data.shape[0]**2+image_data.shape[1]**2)**(0.5)\n",
    "\n",
    "            offsetx=(l+1)*slice_length*np.cos(angle2)\n",
    "            offsety=-(l+1)*slice_length*np.sin(angle2)\n",
    "\n",
    "            # Set the coordinates of the previous slice to be those used in the last loop\n",
    "            x_old, y_old = x, y\n",
    "\n",
    "            # Determine the slicing lines\n",
    "            if angle != -pi/4 and angle != -pi/2:\n",
    "                x = [offsetx-linelength*np.cos(angle), offsetx+linelength*np.cos(angle)]\n",
    "                y = [offsety-linelength*np.sin(angle), offsety+linelength*np.sin(angle)]\n",
    "            elif angle == -pi/4:\n",
    "                x = [round(offsetx-linelength*np.cos(angle)), round(offsetx+linelength*np.cos(angle))]\n",
    "                y = [round(offsety-linelength*np.sin(angle)), round(offsety+linelength*np.sin(angle))]\n",
    "            elif angle == -pi/2:\n",
    "                x = [round(-offsetx), round(-offsetx)]\n",
    "                y = [round(offsety-linelength*1), round(offsety+linelength*1)]\n",
    "\n",
    "            # Plot the slicing lines\n",
    "            plt.plot(x, y, 'r')\n",
    "\n",
    "        for i in range(image_data.shape[0]): # Loop through each x coordinate\n",
    "            found = False\n",
    "            # If all pixels for the current x-position have been assigned, this means\n",
    "            # all y coordinates for this x-position have been sliced and can be skipped to save time.\n",
    "            if np.any([values_test[i]==0]) == False and angle != -pi/2: continue\n",
    "            for j in range(image_data.shape[1]): # Loop through each y-coordinate\n",
    "                    if values_test[i,j] != 0: continue\n",
    "                    # Assign a special case for pi/2 so trig does not fail.\n",
    "                    if angle == -pi/2:\n",
    "                        if l*np.abs(slice_length) <= i < (l+1)*np.abs(slice_length):\n",
    "                            if uniform == False: current_bin+=image_data[i,j]\n",
    "                            elif uniform == True: current_bin+=image_data_uniform[i,j]\n",
    "                            elif uniform == 'nolimb': current_bin+=image_data_nolimb[i,j]\n",
    "                            if values_test[i,j] == 0: values_test[i,j] = l+1\n",
    "                            elif values_test[i,j] != 0: print \"Position Error: \", i, j\n",
    "                            continue\n",
    "                    else:\n",
    "                        # Determine pixel distance to next and previous slice line\n",
    "                        d=(i-x[0])*(y[1]-y[0])-(j-y[0])*(x[1]-x[0])\n",
    "                        d_last=(i-x_old[0])*(y_old[1]-y_old[0])-(j-y_old[0])*(x_old[1]-x_old[0])\n",
    "                        # If the pixel resides in between each slice, add flux to the slice bin.\n",
    "                        # If not, do nto add the flux.\n",
    "                        if d>=0 and d_last<=0:\n",
    "                            found = True\n",
    "                            if uniform == False:\n",
    "                                current_bin+=image_data[i,j]\n",
    "                            elif uniform == True:\n",
    "                                current_bin+=image_data_uniform[i,j]\n",
    "                            elif uniform == 'nolimb':\n",
    "                                current_bin+=image_data_nolimb[i,j]\n",
    "                            try:\n",
    "                                if values_test[i,j] == 0: values_test[i,j] = l+1\n",
    "                                # Ff the same pixel has been integrated twice, print an error and location\n",
    "                                # for diagnostics.\n",
    "                                elif values_test[i,j] != 0: print \"Position Error: \", i, j\n",
    "                            except Exception as e:\n",
    "                                if test == 0:\n",
    "                                    print \"ERROR: \", i, j\n",
    "                                    test +=1\n",
    "                            continue\n",
    "                        # Add conditions to break the loop if the current x-coordinate will not\n",
    "                        # fall within the slice boundaries.\n",
    "                        # This drastically saves processing time.\n",
    "                        elif found == True: break\n",
    "                        elif d<0 and d_last<=0:\n",
    "                            if values_test[i,j] == 0: break\n",
    "                        elif d>0 and d_last>=0:\n",
    "                            if values_test[i,j] == 0: break\n",
    "                        else:\n",
    "                            print \"ERROR!\"\n",
    "                            print \"Position: \", i, j\n",
    "                            print \"Slice: \", l\n",
    "\n",
    "        # Save integrated slice bins to the necessary arrays for each model.\n",
    "        if uniform==False:\n",
    "            # For the volcano model, if the model timing verification is enabled,\n",
    "            # save the planet boundary positions to be used at a later stage.\n",
    "            if timingtest == False: bin_values.append(current_bin)\n",
    "            if current_bin!=0 and location_found==False:\n",
    "                ingress_locations.append(l)\n",
    "                if timingtest == True: ingress_locations2[0]=l\n",
    "                location_found=True\n",
    "            elif current_bin==0 and location_found==True:\n",
    "                ingress_locations.append(l)\n",
    "                if timingtest == True: ingress_locations2[1]=l\n",
    "                location_found=False\n",
    "        elif uniform==True: bin_values_uniform.append(current_bin)\n",
    "        elif uniform=='nolimb': bin_values_nolimb.append(current_bin)\n",
    "        current_bin=0\n",
    "\n",
    "        # Estimate time remaining by printing a timer. Caution: the timing estimation can wildly vary.\n",
    "        nDone +=1\n",
    "        elapsed = time() - stime\n",
    "        pct = (float(nDone) / Nslices)* 100\n",
    "        tLeft = elapsed * (100/pct - 1)\n",
    "        stdout.write('\\r{:06.3f}% {:2d}:{:02d}:{:05.2f} left'.format(pct, int(tLeft/3600), int((tLeft%3600)/60), tLeft%60) + ' ' * 20)\n",
    "        stdout.flush()\n",
    "    return ingress_locations2\n",
    "        \n",
    "# Call the function and slice for the volcano model.\n",
    "print ingress_slicing(angle,angle2,slice_length,uniform=False,timingtest=False,Nslices=Nslices)"
   ]
  },
  {
   "cell_type": "code",
   "execution_count": 11,
   "metadata": {},
   "outputs": [
    {
     "name": "stdout",
     "output_type": "stream",
     "text": [
      "[0.0, 0.0, 236362.68815588809, 2871911.6161983125, 6013448.5619740179, 9004714.9398481026, 11847238.235823374, 14539958.663459506, 17082862.84940657, 19476457.276360285, 21720144.478201993, 23814291.626397517, 25759126.185025461, 27552961.402775962, 29200416.524930999, 30695385.179183807, 32041391.626665916, 33238535.731797326, 34285585.806598522, 35182755.460219905, 35930200.610382944, 36530028.720563225, 36976743.756157011, 37277934.125502348, 37427003.40738114, 37427001.88858445, 37276987.156340972, 36976743.756157152, 36529104.832918175, 35931124.498028234, 35183647.644112751, 35058821.656605676, 37802163.471220307, 38527657.43369735, 38339015.622335903, 37530386.792054318, 36169100.482969239, 34230622.756198138, 31574949.98157217, 27852075.962618843, 21343354.374853168, 17082862.849406336, 14539958.663459187, 11847238.235823447, 9004714.9398481846, 6013448.5619740449, 2871911.6161983008, 236362.68815588771, 0.0, 0.0] 18.0\n",
      "33.253281585\n",
      "172.815417756\n",
      "-1.44540171125\n"
     ]
    }
   ],
   "source": [
    "# Print some values for diagnostics only:\n",
    "print bin_values, values_test[600,0]\n",
    "print slice_length*np.cos(angle2)\n",
    "print angle2*180./pi\n",
    "print angle"
   ]
  },
  {
   "cell_type": "code",
   "execution_count": 12,
   "metadata": {
    "nbpresent": {
     "id": "7ac1e33c-da24-46eb-a40b-e421ad769f57"
    },
    "scrolled": false
   },
   "outputs": [
    {
     "name": "stdout",
     "output_type": "stream",
     "text": [
      "100.000%  0:00:00.00 left                    [0, 0]\n"
     ]
    }
   ],
   "source": [
    "# Perform the slicing the the limb-darkened (entitled 'uniform') model.\n",
    "values_test = np.zeros(shape=(image_data.shape[0],image_data.shape[1]))\n",
    "stime = time()\n",
    "print ingress_slicing(angle,angle2,slice_length,uniform=True,timingtest=False,Nslices=Nslices)"
   ]
  },
  {
   "cell_type": "code",
   "execution_count": 13,
   "metadata": {},
   "outputs": [
    {
     "name": "stdout",
     "output_type": "stream",
     "text": [
      "100.000%  0:00:00.00 left                    [0, 0]\n"
     ]
    }
   ],
   "source": [
    "# Perform the slicing for the non-limb-darkened model.\n",
    "values_test = np.zeros(shape=(image_data.shape[0],image_data.shape[1]))\n",
    "stime = time()\n",
    "print ingress_slicing(angle,angle2,slice_length,uniform='nolimb',timingtest=False,Nslices=Nslices)"
   ]
  },
  {
   "cell_type": "code",
   "execution_count": 14,
   "metadata": {
    "nbpresent": {
     "id": "cba9db44-e36e-4e51-9546-c75410ef5836"
    },
    "scrolled": true
   },
   "outputs": [],
   "source": [
    "# Determine the total integrated flux values for each model from the slicing.\n",
    "for t in range(len(image_data.flat)):\n",
    "    total_amount+=image_data.flat[t]\n",
    "    total_amount_uniform+=image_data_uniform.flat[t]\n",
    "    total_amount_nolimb+=image_data_nolimb.flat[t]\n",
    "\n",
    "for t in range(len(bin_values)):\n",
    "    test_amount+=bin_values[t]"
   ]
  },
  {
   "cell_type": "code",
   "execution_count": 15,
   "metadata": {
    "nbpresent": {
     "id": "d8173e7b-d8ff-4c4b-9067-3565bb4b408a"
    },
    "scrolled": false
   },
   "outputs": [
    {
     "name": "stdout",
     "output_type": "stream",
     "text": [
      "total =  1178054715.34\n",
      "uniform total =  1178052901.03\n",
      "nolimb total =  1178017657.26\n",
      "test =  1178054715.34\n",
      "bins =  [0.0, 0.0, 236362.68815588809, 2871911.6161983125, 6013448.5619740179, 9004714.9398481026, 11847238.235823374, 14539958.663459506, 17082862.84940657, 19476457.276360285, 21720144.478201993, 23814291.626397517, 25759126.185025461, 27552961.402775962, 29200416.524930999, 30695385.179183807, 32041391.626665916, 33238535.731797326, 34285585.806598522, 35182755.460219905, 35930200.610382944, 36530028.720563225, 36976743.756157011, 37277934.125502348, 37427003.40738114, 37427001.88858445, 37276987.156340972, 36976743.756157152, 36529104.832918175, 35931124.498028234, 35183647.644112751, 35058821.656605676, 37802163.471220307, 38527657.43369735, 38339015.622335903, 37530386.792054318, 36169100.482969239, 34230622.756198138, 31574949.98157217, 27852075.962618843, 21343354.374853168, 17082862.849406336, 14539958.663459187, 11847238.235823447, 9004714.9398481846, 6013448.5619740449, 2871911.6161983008, 236362.68815588771, 0.0, 0.0]\n",
      "Any 0: False\n",
      "Ingress slices:  46\n"
     ]
    }
   ],
   "source": [
    "# Print diagnostic values.\n",
    "# Note the total integrated values will slightly differ due to the flux ratio approximation\n",
    "# when generating the model planets.\n",
    "print \"total = \", total_amount\n",
    "print \"uniform total = \", total_amount_uniform\n",
    "print \"nolimb total = \", total_amount_nolimb\n",
    "print \"test = \", test_amount\n",
    "print \"bins = \", bin_values\n",
    "print \"Any 0:\", np.any([values_test==0])\n",
    "try: print \"Ingress slices: \", ingress_locations[1]-ingress_locations[0]\n",
    "except Exception as e:\n",
    "    print e\n",
    "\n",
    "# Print if any pixels were not caught in the slicing algorithm\n",
    "for i in range(image_data.shape[0]):\n",
    "    for j in range(image_data.shape[1]):\n",
    "        if values_test[i,j]==0: print \"Zero: \", j, i"
   ]
  },
  {
   "cell_type": "code",
   "execution_count": 16,
   "metadata": {},
   "outputs": [],
   "source": [
    "# Perform model timing verification if necessary.\n",
    "# This can be very lengthy to compute.\n",
    "enable_timing_test = False\n",
    "if enable_timing_test == True:\n",
    "    timing_test_results=[]\n",
    "    timing_test_results2=[]\n",
    "    Nslice_max=800 # Maximum slices to be tested\n",
    "    Nslice_no=6 # How many tests to be performed.\n",
    "    Nslices_test = np.linspace(10,Nslice_max,num=Nslice_no)\n",
    "    p2m=2.0*R_P/x_dimension # Conversion factor.\n",
    "    # The ingress/egress time 'true' time here is determined by Rauscher 2007, but can be modified to use the\n",
    "    # equations by Winn 2010 if necessary. Both were testest to provide the same results.\n",
    "    h=a*np.sin((90-inc)*(pi/180))\n",
    "    t_gress1=((R_S+R_P)**2-h**2)**0.5\n",
    "    t_gress2=((R_S-R_P)**2-h**2)**0.5\n",
    "    t_gress=(t_gress1-t_gress2)/velocity\n",
    "    velocity2=velocity*np.abs(np.cos(-angle+pi/2))\n",
    "    # For each test...\n",
    "    for i in Nslices_test:\n",
    "        # Determine values needed for slicing algorithm\n",
    "        values_test = np.zeros(shape=(image_data.shape[0],image_data.shape[1]))\n",
    "        stime = time()\n",
    "        if angle == -pi/2: slice_length2=round(image_data.shape[0]*1./i)\n",
    "        else: slice_length2=(((image_data.shape[0]*1.0)/np.cos(angle2))-extra_length)/i\n",
    "        # Call the slicing algorithm to determine the ingress start/end positions.\n",
    "        ingress_locations2=ingress_slicing(angle,angle2,slice_length2,uniform=False,timingtest=True,Nslices=int(i))\n",
    "        # Calculate the position and time for ingress, with attempts to catch and print errors for diagnostics:\n",
    "        try:\n",
    "            print \"Ingress slices: \", ingress_locations2[1]-ingress_locations2[0]\n",
    "            timing_test_results.append(ingress_locations2[1]-ingress_locations2[0])\n",
    "        except Exception as e:\n",
    "            print e\n",
    "        try:\n",
    "            print (ingress_locations2[1]-ingress_locations2[0])*np.abs(slice_length2)*p2m/velocity2\n",
    "            timing_test_results2.append((ingress_locations2[1]-ingress_locations2[0])*np.abs(slice_length2)*p2m/velocity2)\n",
    "        except Exception as e:\n",
    "            print e\n",
    "    # Plot the final graph\n",
    "    timing_x=np.linspace(0,len(timing_test_results2),num=len(timing_test_results2))*(Nslice_max*1./Nslice_no)\n",
    "    plt.clf()\n",
    "    plt.scatter(timing_x,timing_test_results2,s=10,c='k',lw=0, label='Data')\n",
    "    plt.hlines(y=(t_gress), xmin=0, xmax=len(timing_test_results2)*(Nslice_max*1./Nslice_no), color='cyan', label='True Time')\n",
    "    plt.xlabel('Ingress Attempt (Nslices)')\n",
    "    plt.ylabel('Ingress Time (sec)')\n",
    "    plt.legend()\n",
    "    plt.savefig('Timing_test_new.pdf')\n",
    "    plt.show()"
   ]
  },
  {
   "cell_type": "code",
   "execution_count": 17,
   "metadata": {
    "nbpresent": {
     "id": "9ccd47a6-d916-4bbe-9811-a90c8c46831d"
    }
   },
   "outputs": [
    {
     "data": {
      "image/png": "[encoded data removed]",
      "text/plain": [
       "<matplotlib.figure.Figure at 0x11af0c090>"
      ]
     },
     "metadata": {},
     "output_type": "display_data"
    },
    {
     "data": {
      "image/png": "[encoded data removed]",
      "text/plain": [
       "<matplotlib.figure.Figure at 0x182c847190>"
      ]
     },
     "metadata": {},
     "output_type": "display_data"
    },
    {
     "name": "stdout",
     "output_type": "stream",
     "text": [
      "Success.\n"
     ]
    }
   ],
   "source": [
    "# Save the ingress slicing plot\n",
    "plt.savefig('ingress.pdf')\n",
    "plt.show()\n",
    "\n",
    "# Save the integrated slices in the form of a lightcurve to each textfile.\n",
    "plotrange=np.linspace(0, len(bin_values), num=Nslices)\n",
    "if debugging_enabled == False:\n",
    "    file_out = open('ingress1.txt','w')\n",
    "    file_out.write('bin_values' + '\\n')\n",
    "    \n",
    "    for i in range(Nslices):\n",
    "        file_out.write(str(bin_values[i]) + '\\n')\n",
    "        total_amount = total_amount - bin_values[i]\n",
    "        plt.scatter(plotrange[i],total_amount,c='k')\n",
    "    \n",
    "    plt.show()\n",
    "    file_out.close()\n",
    "    \n",
    "    file_out = open('uniformingress1.txt','w')\n",
    "    file_out.write('bin_values' + '\\n')\n",
    "    \n",
    "    for i in range(Nslices):\n",
    "        file_out.write(str(bin_values_uniform[i]) + '\\n')\n",
    "        total_amount = total_amount_uniform - bin_values_uniform[i]\n",
    "    \n",
    "    file_out.close()\n",
    "    \n",
    "    file_out = open('nolimbingress1.txt','w')\n",
    "    file_out.write('bin_values' + '\\n')\n",
    "    \n",
    "    for i in range(Nslices):\n",
    "        file_out.write(str(bin_values_nolimb[i]) + '\\n')\n",
    "        total_amount = total_amount_nolimb - bin_values_nolimb[i]\n",
    "\n",
    "    file_out.close()\n",
    "    \n",
    "else:\n",
    "    # If debugging enabled, the testing .fits file for slicing only is saved for debugging purposes.\n",
    "    values_test = np.transpose(values_test)\n",
    "    hdu = fits.PrimaryHDU(values_test)\n",
    "    hdu.writeto('new1'+str(time())+'.fits')\n",
    "    \n",
    "    for i in range(Nslices):\n",
    "        total_amount = total_amount - bin_values[i]\n",
    "        plt.scatter(plotrange[i],total_amount,c='k')\n",
    "    \n",
    "    plt.show()\n",
    "\n",
    "print \"Success.\""
   ]
  },
  {
   "cell_type": "markdown",
   "metadata": {
    "nbpresent": {
     "id": "3fa7136a-c212-4d21-adec-01436924f5ce"
    }
   },
   "source": [
    "## End Ingress Slicing"
   ]
  },
  {
   "cell_type": "markdown",
   "metadata": {
    "nbpresent": {
     "id": "b0555561-a274-49a9-a9b5-a48ea9cb2f01"
    }
   },
   "source": [
    "# Egress Slicing"
   ]
  },
  {
   "cell_type": "markdown",
   "metadata": {},
   "source": [
    "This section will perform the same algorithm as the ingress slicing, but with a reversed direction for slicing."
   ]
  },
  {
   "cell_type": "code",
   "execution_count": 18,
   "metadata": {
    "nbpresent": {
     "id": "a6425918-f5a9-4d07-b1ec-e76d0af2d1da"
    },
    "scrolled": true
   },
   "outputs": [
    {
     "name": "stdout",
     "output_type": "stream",
     "text": [
      "33.5164395503\n",
      "values_test shape =  (1500, 1500)\n"
     ]
    }
   ],
   "source": [
    "# Plot the model planet and apply the limits.\n",
    "plt.imshow(np.transpose(image_data), cmap='gray')\n",
    "plt.colorbar()\n",
    "if image_limits == True: #Apply limits on output figure\n",
    "    plt.xlim(0,image_data.shape[0])\n",
    "    plt.ylim(0,image_data.shape[1])\n",
    "\n",
    "# Reverse the slicing angle\n",
    "angle=-angle\n",
    "angle2=(pi/2)-angle\n",
    "deficit=image_data.shape[1]-np.abs(np.tan(angle2))*image_data.shape[0]\n",
    "\n",
    "# Determine the length of each slice\n",
    "if angle != pi/4 and angle != 0: extra_length=deficit*np.cos(angle)\n",
    "elif angle == pi/4 or angle == 0: extra_length=0\n",
    "if angle == pi/2: slice_length=round(image_data.shape[0]*1./Nslices)\n",
    "else: slice_length=(((image_data.shape[0]*1.0)/np.cos(angle2))+extra_length)/Nslices\n",
    "print slice_length\n",
    "\n",
    "# Initialise variables for the slicing algorithm\n",
    "bin_values=[]\n",
    "values_test = np.zeros(shape=(image_data.shape[0],image_data.shape[1]))\n",
    "print \"values_test shape = \", values_test.shape\n",
    "test_amount, total_amount,total_amount_uniform,total_amount_nolimb = 0,0,0,0\n",
    "stime = time()"
   ]
  },
  {
   "cell_type": "markdown",
   "metadata": {
    "nbpresent": {
     "id": "49d93775-73fa-4538-99e3-bd57bee0686f"
    }
   },
   "source": [
    "## Begin slicing"
   ]
  },
  {
   "cell_type": "code",
   "execution_count": 19,
   "metadata": {
    "nbpresent": {
     "id": "32fae05f-de6e-4fd4-9707-e6d2041c1d1c"
    },
    "scrolled": true
   },
   "outputs": [
    {
     "name": "stdout",
     "output_type": "stream",
     "text": [
      "100.000%  0:00:00.00 left                    Slicing Complete.\n"
     ]
    }
   ],
   "source": [
    "# Define the egress slicing function to be called for all models:\n",
    "def egress_slicing(Nslices,angle,angle2,slice_length,uniform):\n",
    "    \n",
    "    # Initialise variables\n",
    "    current_bin=0\n",
    "    nDone, test=0, 0\n",
    "    x, y=[0,0], [0,0]\n",
    "\n",
    "    # Loop through each individual slice\n",
    "    for l in range(Nslices):\n",
    "\n",
    "        # For each slice, determine the slicing line coordinates and draw each slice on the final plot\n",
    "        if l != Nslices :\n",
    "            linelength=(image_data.shape[0]**2+image_data.shape[1]**2)**(0.5)\n",
    "\n",
    "            offsetx=image_data.shape[0]-(l+1)*slice_length*np.cos(angle2)\n",
    "            offsety=(l+1)*slice_length*np.sin(angle2)\n",
    "\n",
    "            x_old, y_old = x, y\n",
    "\n",
    "            if angle != pi/4 and angle != pi/2:\n",
    "                x = [offsetx-linelength*np.cos(angle), offsetx+linelength*np.cos(angle)]\n",
    "                y = [offsety-linelength*np.sin(angle), offsety+linelength*np.sin(angle)]\n",
    "            elif angle == pi/4:\n",
    "                x = [round(offsetx-linelength*np.cos(angle)), round(offsetx+linelength*np.cos(angle))]\n",
    "                y = [round(offsety-linelength*np.sin(angle)), round(offsety+linelength*np.sin(angle))]\n",
    "            elif angle == pi/2:\n",
    "                x = [round(offsetx), round(offsetx)]\n",
    "                y = [round(offsety-linelength*1), round(offsety+linelength*1)]\n",
    "            \n",
    "            plt.plot(x, y, 'r')\n",
    "\n",
    "        # Perform the same slicing algorithm as used with ingress slicing.\n",
    "        # The only difference is the angle used, but all other trigonometry is the same.\n",
    "        for i in range(image_data.shape[0]):\n",
    "            found = False\n",
    "            if np.any([values_test[i]==0]) == False and angle != pi/2: continue\n",
    "            for j in range(image_data.shape[1]):\n",
    "                    if angle == pi/2:\n",
    "                        if l*np.abs(slice_length) <= i < (l+1)*np.abs(slice_length):\n",
    "                            if uniform == False: current_bin+=image_data[i,j]\n",
    "                            elif uniform == True: current_bin+=image_data_uniform[i,j]\n",
    "                            elif uniform == 'nolimb': current_bin+=image_data_nolimb[i,j]\n",
    "                            if values_test[i,j] == 0: values_test[i,j] = l+1\n",
    "                            elif values_test[i,j] != 0: print \"Position Error: \", i, j\n",
    "                            continue\n",
    "                    else:\n",
    "                        if values_test[i,j] != 0: continue\n",
    "                        d=(i-x[0])*(y[1]-y[0])-(j-y[0])*(x[1]-x[0])\n",
    "                        d_last=(i-x_old[0])*(y_old[1]-y_old[0])-(j-y_old[0])*(x_old[1]-x_old[0])\n",
    "                        if d>=0 and d_last<=0:\n",
    "                            found = True\n",
    "                            if uniform == False: current_bin+=image_data[i,j]\n",
    "                            elif uniform == True: current_bin+=image_data_uniform[i,j]\n",
    "                            elif uniform == 'nolimb': current_bin+=image_data_nolimb[i,j]\n",
    "                            try:\n",
    "                                if values_test[i,j] == 0: values_test[i,j] = l+1\n",
    "                            except Exception as e:\n",
    "                                if test == 0:\n",
    "                                    print \"ERROR: \", i, j\n",
    "                                    test +=1\n",
    "                            continue\n",
    "                        elif found == True:\n",
    "                            break\n",
    "                        elif d<0 and d_last<=0:\n",
    "                            if values_test[i,j] == 0: break\n",
    "                        elif d>0 and d_last>=0:\n",
    "                            if values_test[i,j] == 0: break\n",
    "                        else:\n",
    "                            print \"ERROR!\", i, j\n",
    "\n",
    "        # Save the results to the initialised arrays to be used for plotting.\n",
    "        if uniform==False: bin_values.append(current_bin)\n",
    "        elif uniform==True: bin_values_uniform.append(current_bin)\n",
    "        elif uniform=='nolimb': bin_values_nolimb.append(current_bin)\n",
    "        current_bin=0\n",
    "\n",
    "        # Print a timer to estimate completion time.\n",
    "        nDone +=1\n",
    "        elapsed = time() - stime\n",
    "        pct = (float(nDone) / Nslices)* 100\n",
    "        tLeft = elapsed * (100/pct - 1)\n",
    "        stdout.write('\\r{:06.3f}% {:2d}:{:02d}:{:05.2f} left'.format(pct, int(tLeft/3600), int((tLeft%3600)/60), tLeft%60) + ' ' * 20)\n",
    "        stdout.flush()\n",
    "    return \"Slicing Complete.\"\n",
    "\n",
    "# Call the function for the volcano model.\n",
    "print egress_slicing(Nslices,angle,angle2,slice_length,uniform=False)"
   ]
  },
  {
   "cell_type": "code",
   "execution_count": 20,
   "metadata": {
    "nbpresent": {
     "id": "1fe9748d-4615-4e48-8173-43273a3fc123"
    }
   },
   "outputs": [
    {
     "name": "stdout",
     "output_type": "stream",
     "text": [
      "100.000%  0:00:00.00 left                    Slicing Complete.\n"
     ]
    }
   ],
   "source": [
    "# Call the function for the limb-darkened model.\n",
    "values_test = np.zeros(shape=(image_data.shape[0],image_data.shape[1]))\n",
    "stime = time()\n",
    "print egress_slicing(Nslices,angle,angle2,slice_length,uniform=True)"
   ]
  },
  {
   "cell_type": "code",
   "execution_count": 21,
   "metadata": {},
   "outputs": [
    {
     "name": "stdout",
     "output_type": "stream",
     "text": [
      "100.000%  0:00:00.00 left                    Slicing Complete.\n"
     ]
    }
   ],
   "source": [
    "# Call the function for the no-limb-darkening model.\n",
    "values_test = np.zeros(shape=(image_data.shape[0],image_data.shape[1]))\n",
    "stime = time()\n",
    "print egress_slicing(Nslices,angle,angle2,slice_length,uniform='nolimb')"
   ]
  },
  {
   "cell_type": "code",
   "execution_count": 22,
   "metadata": {
    "nbpresent": {
     "id": "3df61c18-2c40-4de1-8417-c2bc37fa81e8"
    }
   },
   "outputs": [],
   "source": [
    "# Determine the total integrated values.\n",
    "for t in range(len(image_data.flat)):\n",
    "    total_amount+=image_data.flat[t]\n",
    "    total_amount_uniform+=image_data_uniform.flat[t]\n",
    "    total_amount_nolimb+=image_data_nolimb.flat[t]\n",
    "\n",
    "for t in range(len(bin_values)):\n",
    "    test_amount+=bin_values[t]"
   ]
  },
  {
   "cell_type": "code",
   "execution_count": 23,
   "metadata": {
    "nbpresent": {
     "id": "b3ee3ae5-2ec1-4cb3-b560-fb7316b30285"
    }
   },
   "outputs": [
    {
     "name": "stdout",
     "output_type": "stream",
     "text": [
      "total =  1178054715.34\n",
      "test =  1178054715.34\n",
      "bins =  [0.0, 0.0, 236362.68815588774, 2871911.6161983013, 6013448.5619740449, 9004714.9398481883, 11847238.235823456, 14539698.563225852, 17083122.949639648, 21343354.37485319, 27852655.084232006, 31575013.596159596, 34229980.019997515, 36169100.482969269, 37529604.648847148, 38339797.765543036, 38527657.433697306, 37803034.429035313, 35057950.69879061, 35182737.886422992, 35931110.368072778, 36530028.720563397, 36976743.756157175, 37276987.156341001, 37427001.88858445, 37427003.40738114, 37276991.727417544, 36977686.154241823, 36529104.832917951, 35931124.498028137, 35182755.460219957, 34285585.806598522, 33238535.731797326, 32041391.626665927, 30695385.179183807, 29200416.524931021, 27552961.402775962, 25759126.18502548, 23814291.626397524, 21720144.478201985, 19476457.276360292, 17082862.849406585, 14539958.663459508, 11847238.235823374, 9004714.9398481008, 6013448.561974016, 2871911.6161983153, 236362.6881558882, 0.0, 0.0]\n",
      "Any 0: False\n"
     ]
    }
   ],
   "source": [
    "# Print some diagnostic values for debugging if necessary.\n",
    "print \"total = \", total_amount\n",
    "print \"test = \", test_amount\n",
    "print \"bins = \", bin_values\n",
    "print \"Any 0:\", np.any([values_test==0])\n",
    "\n",
    "for i in range(image_data.shape[0]):\n",
    "    for j in range(image_data.shape[1]):\n",
    "        if values_test[i,j]==0:\n",
    "            print \"Zero: \", j, i"
   ]
  },
  {
   "cell_type": "code",
   "execution_count": 24,
   "metadata": {
    "nbpresent": {
     "id": "02b52cfa-9e0a-4bdf-a0a4-8b4e189f632f"
    },
    "scrolled": false
   },
   "outputs": [
    {
     "data": {
      "image/png": "[encoded data removed]",
      "text/plain": [
       "<matplotlib.figure.Figure at 0x182cb19410>"
      ]
     },
     "metadata": {},
     "output_type": "display_data"
    },
    {
     "data": {
      "image/png": "[encoded data removed]",
      "text/plain": [
       "<matplotlib.figure.Figure at 0x182c73eed0>"
      ]
     },
     "metadata": {},
     "output_type": "display_data"
    },
    {
     "name": "stdout",
     "output_type": "stream",
     "text": [
      "Success.\n"
     ]
    }
   ],
   "source": [
    "# Save the results to three egress text files to be used at a later stage.\n",
    "\n",
    "plt.savefig('egress.pdf')\n",
    "plt.show()\n",
    "\n",
    "plotrange=np.linspace(0, len(bin_values), num=Nslices)\n",
    "if debugging_enabled == False:\n",
    "    file_out = open('egress1.txt','w')\n",
    "    file_out.write('bin_values' + '\\n')\n",
    "    \n",
    "    for i in range(Nslices):\n",
    "        file_out.write(str(bin_values[i]) + '\\n')\n",
    "        total_amount = total_amount - bin_values[i]\n",
    "        plt.scatter(plotrange[i],total_amount,c='k')\n",
    "    \n",
    "    plt.show()\n",
    "    file_out.close()\n",
    "    \n",
    "    file_out = open('uniformegress1.txt','w')\n",
    "    file_out.write('bin_values' + '\\n')\n",
    "    \n",
    "    for i in range(Nslices):\n",
    "        file_out.write(str(bin_values_uniform[i]) + '\\n')\n",
    "        total_amount = total_amount_uniform - bin_values_uniform[i]\n",
    "\n",
    "    file_out.close()\n",
    "    \n",
    "    file_out = open('nolimbegress1.txt','w')\n",
    "    file_out.write('bin_values' + '\\n')\n",
    "    \n",
    "    for i in range(Nslices):\n",
    "        file_out.write(str(bin_values_nolimb[i]) + '\\n')\n",
    "        total_amount = total_amount_nolimb - bin_values_nolimb[i]\n",
    "\n",
    "    file_out.close()\n",
    "else:\n",
    "    values_test = np.transpose(values_test)\n",
    "    hdu = fits.PrimaryHDU(values_test)\n",
    "    hdu.writeto('new2'+str(time())+'.fits')\n",
    "    \n",
    "    for i in range(Nslices):\n",
    "    #file_out.write(str(bin_values[i]) + '\\n')\n",
    "        total_amount = total_amount - bin_values[i]\n",
    "        plt.scatter(plotrange[i],total_amount,c='k')\n",
    "    \n",
    "    plt.show()\n",
    "\n",
    "print \"Success.\""
   ]
  },
  {
   "cell_type": "markdown",
   "metadata": {
    "nbpresent": {
     "id": "82350a8e-8333-4dec-b4e9-78f4d2524f86"
    }
   },
   "source": [
    "## End Egress Slicing"
   ]
  },
  {
   "cell_type": "markdown",
   "metadata": {
    "nbpresent": {
     "id": "08b0bc0c-353c-4b20-b871-d577b9bd27bc"
    }
   },
   "source": [
    "# Blackbody Estimation"
   ]
  },
  {
   "cell_type": "code",
   "execution_count": 25,
   "metadata": {},
   "outputs": [
    {
     "name": "stdout",
     "output_type": "stream",
     "text": [
      "A:  0.0\n",
      "Stellar:  24954892181.9\n",
      "Planet Thermal:  314268742.64\n",
      "Planet Refl:  0.0\n",
      "A:  0.3\n",
      "Stellar:  24954892181.9\n",
      "Planet Thermal:  191802996.014\n",
      "Planet Refl:  32333.1951844\n",
      "A:  1.0\n",
      "Stellar:  24954892181.9\n",
      "Planet Thermal:  0\n",
      "Planet Refl:  107777.317281\n"
     ]
    },
    {
     "data": {
      "image/png": "[encoded data removed]",
      "text/plain": [
       "<matplotlib.figure.Figure at 0x182b5c1190>"
      ]
     },
     "metadata": {},
     "output_type": "display_data"
    }
   ],
   "source": [
    "# Clear any plots and define physical constants\n",
    "plt.clf\n",
    "h=6.626e-34\n",
    "c=3.0e8\n",
    "k=1.38e-23\n",
    "\n",
    "## TRAPPIST-1 Values:\n",
    "# If the temperature is known, this can easily be set.\n",
    "# If not, it can be estimated from a complete heat-redistribution model.\n",
    "T_P_known=True\n",
    "if T_P_known == False: T_P = (T_S/(2**0.5))*(R_S/a)**0.5\n",
    "else: T_P=600\n",
    "counter = 0\n",
    "results=[]\n",
    "\n",
    "# Define the planck function.\n",
    "def BB_Radiation(T,lambd):\n",
    "    if T == 0: return 0\n",
    "    f1=(2*h*c**2)/(lambd**5)\n",
    "    f2=1/(np.exp((h*c)/(lambd*k*T))-1)\n",
    "    return f1*f2\n",
    "\n",
    "# Generate logarithmic x-coordinates\n",
    "x=np.logspace(-7,-5,num=200)\n",
    "\n",
    "# Loop through Albedo 0, 0,3 and 1,\n",
    "for j in range(3):\n",
    "    if j == 0:\n",
    "        A = 0.0\n",
    "    elif j == 1:\n",
    "        A = 0.3\n",
    "    elif j == 2:\n",
    "        A = 1.0\n",
    "    else:\n",
    "        print \"ERROR!\"\n",
    "    counter = 0\n",
    "    # For each x-value, determine the flux of the star, reflected planet and emitted planet.\n",
    "    # Equations are defined in the final report.\n",
    "    for i in range(len(x)):\n",
    "        xp=x[i]\n",
    "        if j == 0 and i == 1:\n",
    "            plt.scatter(xp,BB_Radiation(T_S,xp),s=5,c='r',lw=0,label='Stellar BB')\n",
    "            plt.scatter(xp,BB_Radiation(T_P,xp),s=5,c='k',lw=0,label='Planet BB A=0')\n",
    "        elif j == 1 and i == 1:\n",
    "            T_P2=T_P*((1-A)**0.25)\n",
    "            plt.scatter(xp,BB_Radiation(T_P2,xp),s=5,c='#808080',lw=0,label='Planet BB A=0.3')\n",
    "            frac=A*(R_P/(2*a))**2\n",
    "            plt.scatter(xp,BB_Radiation(T_S,xp)*frac,s=5,c='b',lw=0,label='Planet Refl A=0.3')\n",
    "        elif j ==2 and i == 1:\n",
    "            frac=A*(R_P/(2*a))**2\n",
    "            plt.scatter(xp,BB_Radiation(T_S,xp)*frac,s=5,c='c',lw=0,label='Planet Refl A=1')\n",
    "        elif j ==0:\n",
    "            plt.scatter(xp,BB_Radiation(T_P,xp),s=5,c='k',lw=0)\n",
    "            plt.scatter(xp,BB_Radiation(T_S,xp),s=5,c='r',lw=0)\n",
    "        elif j ==1:\n",
    "            T_P2=T_P*((1-A)**0.25)\n",
    "            plt.scatter(xp,BB_Radiation(T_P2,xp),s=5,c='#808080',lw=0)\n",
    "            plt.scatter(xp,BB_Radiation(T_S,xp),s=5,c='r',lw=0)\n",
    "            frac=A*(R_P/(2*a))**2\n",
    "            plt.scatter(xp,BB_Radiation(T_S,xp)*frac,s=5,c='b',lw=0)\n",
    "        elif j ==2:\n",
    "            plt.scatter(xp,BB_Radiation(T_S,xp),s=5,c='r',lw=0)\n",
    "            frac=A*(R_P/(2*a))**2\n",
    "            plt.scatter(xp,BB_Radiation(T_S,xp)*frac,s=5,c='c',lw=0)\n",
    "        if xp >= 4.5e-6 and counter == 0:\n",
    "            counter = -1\n",
    "            T_P2=T_P*((1-A)**0.25)\n",
    "            frac=A*(R_P/(2*a))**2\n",
    "            print \"A: \", A\n",
    "            print \"Stellar: \", BB_Radiation(T_S,xp)\n",
    "            results.append(BB_Radiation(T_S,xp))\n",
    "            print \"Planet Thermal: \", BB_Radiation(T_P2,xp)\n",
    "            if T_P_known == False: results.append(BB_Radiation(T_P2,xp))\n",
    "            else: results.append(BB_Radiation(T_P,xp))\n",
    "            print \"Planet Refl: \", BB_Radiation(T_S,xp)*frac\n",
    "            results.append(BB_Radiation(T_S,xp)*frac)\n",
    "            # In the final array, the positions are defined as the following:\n",
    "            #0=star,1=thermal,2=reflected, A=0.0\n",
    "            #3=star,4=thermal,5=reflected, A=0.3\n",
    "            #6=star,7=thermal,8=reflected, A=1.0\n",
    "    \n",
    "# Plot and save the results.\n",
    "plt.xscale('log')\n",
    "plt.yscale('log')\n",
    "plt.xlim(2e-7,1e-5)\n",
    "plt.ylim(1e2,1e13) #1e4\n",
    "plt.xlabel('Wavelength (m)')\n",
    "plt.ylabel('Flux (W 1/sr 1/m)')\n",
    "plt.axvline(x=4.5e-6, label=\"4.5 $\\mu m$\")\n",
    "plt.savefig('BBcurve_nolegend.pdf')\n",
    "plt.legend(loc='upper left', fontsize=8)\n",
    "plt.savefig('BBcurve.pdf')\n",
    "plt.show()"
   ]
  },
  {
   "cell_type": "markdown",
   "metadata": {},
   "source": [
    "# Lightcurve Plotting"
   ]
  },
  {
   "cell_type": "code",
   "execution_count": 26,
   "metadata": {
    "nbpresent": {
     "id": "75c009be-c4df-4c15-8144-f2554059f778"
    },
    "scrolled": false
   },
   "outputs": [
    {
     "name": "stdout",
     "output_type": "stream",
     "text": [
      "model time: 178.918335509\n",
      "equation time:  174.08284499\n",
      "fraction:  0.00133356719159\n",
      "radii:  81396900.0 80748186.3623 80748186.3623\n",
      "2185.57829811 1837.40126258 0.0850968108122\n",
      "0.00837134616329 0.00703773551522 0.5\n",
      "[ 0.49162865  0.49165587  0.49168309  0.4917103   0.49173752  0.49176474\n",
      "  0.49179195  0.49181917  0.49184639  0.4918736   0.49190082  0.49192804\n",
      "  0.49195525  0.49198247  0.49200969  0.4920369   0.49206412  0.49209134\n",
      "  0.49211855  0.49214577  0.49217298  0.4922002   0.49222742  0.49225463\n",
      "  0.49228185  0.49230907  0.49233628  0.4923635   0.49239072  0.49241793\n",
      "  0.49244515  0.49247237  0.49249958  0.4925268   0.49255402  0.49258123\n",
      "  0.49260845  0.49263567  0.49266288  0.4926901   0.49271732  0.49274453\n",
      "  0.49277175  0.49279897  0.49282618  0.4928534   0.49288061  0.49290783\n",
      "  0.49293505  0.49296226]\n",
      "-9.12047394759e-05\n"
     ]
    },
    {
     "data": {
      "image/png": "[encoded data removed]",
      "text/plain": [
       "<matplotlib.figure.Figure at 0x182dd59690>"
      ]
     },
     "metadata": {},
     "output_type": "display_data"
    }
   ],
   "source": [
    "# Import the flux bins from the slicing algorithms.\n",
    "data1=np.genfromtxt('ingress1.txt', names=True, delimiter=';',dtype=None)\n",
    "data2=np.genfromtxt('egress1.txt', names=True, delimiter=';',dtype=None)\n",
    "# techspecs defines various parameters such as the number of slices, slice length, angle etc...\n",
    "data3=np.genfromtxt('techspecs.txt', names=True, delimiter=';',dtype=None)\n",
    "uniformdata1=np.genfromtxt('uniformingress1.txt', names=True, delimiter=';',dtype=None)\n",
    "uniformdata2=np.genfromtxt('uniformegress1.txt', names=True, delimiter=';',dtype=None)\n",
    "nolimbdata1=np.genfromtxt('nolimbingress1.txt', names=True, delimiter=';',dtype=None)\n",
    "nolimbdata2=np.genfromtxt('nolimbegress1.txt', names=True, delimiter=';',dtype=None)\n",
    "\n",
    "###Constants:\n",
    "# Import various constants from the techspecs file.\n",
    "Nslices=data3['Nslices']\n",
    "slice_length=data3['slice_length']\n",
    "angle=data3['angle']\n",
    "angle2=(pi/2)-angle\n",
    "Initial=0.5\n",
    "###\n",
    "\n",
    "# Estimate the model ingress time from the verification step performed in the ingress section, if applicable.\n",
    "p2m=2.0*R_P/x_dimension\n",
    "velocity2=velocity*np.abs(np.cos(angle+pi/2))\n",
    "try: model_ingress_time=(ingress_locations[1]-ingress_locations[0])*np.abs(slice_length)*p2m/velocity2\n",
    "except Exception as e:\n",
    "    print e\n",
    "    model_ingress_time=(Nslices)*np.abs(slice_length)*p2m/velocity2\n",
    "print \"model time:\", model_ingress_time\n",
    "\n",
    "# Estimate ingress time from Rauscher 2007\n",
    "h=a*np.sin((90-inc)*(pi/180))\n",
    "t_gress1=((R_S+R_P)**2-h**2)**0.5\n",
    "t_gress2=((R_S-R_P)**2-h**2)**0.5\n",
    "t_gress=(t_gress1-t_gress2)/velocity\n",
    "print \"equation time: \", t_gress\n",
    "print \"fraction: \", t_gress/P\n",
    "\n",
    "# Estimate total occultation time:\n",
    "R_new=R_S*(1-b**2)**0.5\n",
    "print \"radii: \", R_S, R_new, R_S*(1-b**2)**0.5\n",
    "t_occultation=2*R_new/velocity\n",
    "\n",
    "# Use equations from Winn (2010) to define full and total time for lightcurve plotting:\n",
    "k=R_P/R_S\n",
    "T_total=(P/pi) * np.arcsin(scale_param**-1 * ((1+k)**2-b**2)**0.5 / (np.sin(inc*pi/180)) )\n",
    "T_full= (P/pi) * np.arcsin(scale_param**-1 * ((1-k)**2-b**2)**0.5 / (np.sin(inc*pi/180)) )\n",
    "\n",
    "print T_total, T_full, k\n",
    "\n",
    "# Convert Winn 2010 timings into phases, and half each value:\n",
    "P_total=T_total*0.5/P\n",
    "P_full=T_full*0.5/P\n",
    "\n",
    "# Estimate the flux of the star to normalise the planetary flux\n",
    "#Take albedo of 0.3 for Earth:\n",
    "#0=star,1=thermal,2=reflected A=0\n",
    "#3=star,4=thermal,5=reflected A=0.3\n",
    "#6=star,7=thermal,8=reflected A=1\n",
    "# Use model flux of planet to estimate star:\n",
    "flux_planet=np.sum(uniformdata1['bin_values'])\n",
    "flux_star=(results[3]*R_S**2/((results[4]+results[5])*R_P**2))*flux_planet\n",
    "\n",
    "# Apply phase timings from T1b using Winn 2010\n",
    "plotrange=np.linspace(-P_total+Initial,-P_full+Initial, num=Nslices)\n",
    "plotrange2=np.linspace(P_full+Initial,P_total+Initial, num=Nslices)\n",
    "print P_total, P_full, Initial\n",
    "print plotrange\n",
    "\n",
    "# Determine necessary parameters to plot lightcurve:\n",
    "stepdifference=np.abs(plotrange[0]-plotrange[1])\n",
    "rangedifference=np.abs(plotrange2[0]-plotrange[-1])\n",
    "Nsteps_needed=int(round(rangedifference/stepdifference))\n",
    "plotrange3=np.linspace(plotrange[-1]+stepdifference,plotrange2[0]-stepdifference,num=Nsteps_needed, endpoint=False)\n",
    "total_amount, total_amount_int, total_amount_uni = np.sum(data1['bin_values']), np.sum(data1['bin_values']), np.sum(uniformdata1['bin_values'])\n",
    "\n",
    "# Open output files to save lightcurve data.\n",
    "file_out = open('phase_curve1.txt','w')\n",
    "file_out.write('x_values;flux_values' + '\\n')\n",
    "file_out2 = open('phase_curve2.txt','w')\n",
    "file_out2.write('x_values;flux_values' + '\\n')\n",
    "file_out3 = open('phase_curve3.txt','w')\n",
    "file_out3.write('x_values;flux_values' + '\\n')\n",
    "file_out4 = open('graph_specs.txt','w')\n",
    "#file_out4.write('O_Ratio;P_Ratio;P;flux_star;t_occultation;Initial;Length;Nslices' + '\\n')\n",
    "#file_out4.write(str(O_Ratio)+';'+str(P_Ratio)+';'+str(P)+';'+str(flux_star)+';'+str(t_occultation)+';'+str(Initial)+';'+str(len(data1))+';'+str(Nslices)+ '\\n')\n",
    "file_out4.write('P_total;P_full;P;flux_star;t_occultation;Initial;Length;Nslices' + '\\n')\n",
    "file_out4.write(str(P_total)+';'+str(P_full)+';'+str(P)+';'+str(flux_star)+';'+str(t_occultation)+';'+str(Initial)+';'+str(len(data1))+';'+str(Nslices)+ '\\n')\n",
    "file_out4.close()\n",
    "\n",
    "# Initialise empty lists to plot data\n",
    "phase_curve,phase_curve2=[],[]\n",
    "current_bin=[]\n",
    "uniform_curve_x=[]\n",
    "uniform_curve_y=[]\n",
    "nolimb_curve_x=[]\n",
    "nolimb_curve_y=[]\n",
    "residuals1=[]\n",
    "residuals2=[]\n",
    "residuals3=[]\n",
    "residuals4=[]\n",
    "\n",
    "# Initialise the lightcurve plot:\n",
    "fig, ((ax1, ax2), (ax3, ax4)) = plt.subplots(2, 2, sharex='col', sharey='row',gridspec_kw = {'height_ratios':[3, 1]})\n",
    "ax1.set_ylim(0.99999, 1.0001)\n",
    "ax2.set_ylim(0.99999, 1.0001)\n",
    "ax1.ticklabel_format(axis='y',style='sci',useOffset=False)\n",
    "ax1.ticklabel_format(axis='x',style='sci',useOffset=False)\n",
    "ax2.ticklabel_format(axis='x',style='sci',useOffset=False)\n",
    "ax1.set_xlim(-P_total+Initial,-P_full+Initial)\n",
    "ax2.set_xlim(P_full+Initial,P_total+Initial)\n",
    "myLocator = mticker.MultipleLocator(0.0003)\n",
    "myLocator2 = mticker.MultipleLocator(0.0003)\n",
    "#myLocator3 = mticker.MultipleLocator(0.000002)\n",
    "#myLocator4 = mticker.MultipleLocator(0.000002)\n",
    "ax1.xaxis.set_major_locator(myLocator)\n",
    "ax2.xaxis.set_major_locator(myLocator2)\n",
    "#ax3.yaxis.set_major_locator(myLocator3)\n",
    "#ax4.yaxis.set_major_locator(myLocator4)\n",
    "ax1.spines['right'].set_visible(False)\n",
    "ax2.spines['left'].set_visible(False)\n",
    "ax3.spines['right'].set_visible(False)\n",
    "ax4.spines['left'].set_visible(False)\n",
    "ax1.yaxis.tick_left()\n",
    "ax1.tick_params(labeltop='off') # don't put tick labels at the top\n",
    "ax2.yaxis.tick_right()\n",
    "ax3.yaxis.tick_left()\n",
    "ax3.tick_params(labeltop='off') # don't put tick labels at the top\n",
    "ax4.yaxis.tick_right()\n",
    "plt.subplots_adjust(wspace=0.10)\n",
    "\n",
    "#############################################\n",
    "# Simulate a lightcurve for the volcano model\n",
    "print 1-(total_amount+flux_star)/(flux_star)\n",
    "for i in range(Nslices):\n",
    "    total_amount = total_amount - data1['bin_values'][i]\n",
    "    fractional_flux = (total_amount+flux_star)/(flux_star)\n",
    "    ax1.scatter(plotrange[i],fractional_flux,s=7, c='r',lw=0)\n",
    "    if fractional_flux != 1.0: file_out.write(str(plotrange[i])+';'+ str(fractional_flux)+ '\\n')\n",
    "    phase_curve.append(fractional_flux)\n",
    "    phase_curve2.append(total_amount)\n",
    "    \n",
    "for i in range(len(plotrange3)):\n",
    "    file_out.write(str(plotrange3[i])+';'+ str(1.0)+ '\\n') \n",
    "    \n",
    "total_amount = 0\n",
    "\n",
    "for i in range(Nslices):\n",
    "    total_amount = total_amount + data2['bin_values'][Nslices-i-1]\n",
    "    fractional_flux = (total_amount+flux_star)/(flux_star)\n",
    "    if i == 0: ax2.scatter(plotrange2[i],fractional_flux,s=7, c='r', label='Volcano Model',lw=0)\n",
    "    else: ax2.scatter(plotrange2[i],fractional_flux,s=7, c='r',lw=0)\n",
    "    if fractional_flux != 1.0: file_out.write(str(plotrange2[i])+';'+ str(fractional_flux)+ '\\n')\n",
    "    phase_curve.append(fractional_flux)\n",
    "    phase_curve2.append(total_amount)\n",
    "    \n",
    "difference=plotrange2[1]-plotrange2[0]\n",
    "fractional_flux = (total_amount+flux_star)/(flux_star)\n",
    "file_out.write(str(plotrange2[-1]+difference)+';'+ str(fractional_flux)+ '\\n')\n",
    "\n",
    "#############################################\n",
    "# Simulate a lightcurve for the limb-darkened model\n",
    "total_amount = np.sum(uniformdata1['bin_values'])\n",
    "   \n",
    "for i in range(Nslices):\n",
    "    total_amount = total_amount - uniformdata1['bin_values'][i]\n",
    "    fractional_flux = (total_amount+flux_star)/(flux_star)\n",
    "    if fractional_flux != 1.0: file_out2.write(str(plotrange[i])+';'+ str(fractional_flux)+ '\\n')\n",
    "    uniform_curve_x.append(plotrange[i])\n",
    "    uniform_curve_y.append(fractional_flux)\n",
    "    residuals1.append(-fractional_flux+phase_curve[i])\n",
    "    \n",
    "for i in range(len(plotrange3)):\n",
    "    file_out2.write(str(plotrange3[i])+';'+ str(1.0)+ '\\n') \n",
    "    \n",
    "total_amount = 0\n",
    "    \n",
    "for i in range(Nslices):\n",
    "    total_amount = total_amount + uniformdata2['bin_values'][Nslices-i-1]\n",
    "    fractional_flux = (total_amount+flux_star)/(flux_star)\n",
    "    if fractional_flux != 1.0: file_out2.write(str(plotrange2[i])+';'+ str(fractional_flux)+ '\\n')\n",
    "    uniform_curve_x.append(plotrange2[i])\n",
    "    uniform_curve_y.append(fractional_flux)\n",
    "    residuals2.append(-fractional_flux+phase_curve[Nslices+i])\n",
    "\n",
    "ax1.plot(uniform_curve_x,uniform_curve_y,'--',c='k',lw=1.4)\n",
    "ax2.plot(uniform_curve_x,uniform_curve_y,'--',c='k', label='Limb Model',lw=1.4)\n",
    "ax1.set_ylabel('$F(t)/F$')\n",
    "\n",
    "fractional_flux = (total_amount+flux_star)/(flux_star)\n",
    "file_out2.write(str(plotrange2[-1]+difference)+';'+ str(fractional_flux)+ '\\n')\n",
    "\n",
    "#############################################\n",
    "# Simulate a lightcurve for the no-limb-darkening model\n",
    "total_amount = np.sum(nolimbdata1['bin_values'])\n",
    "for i in range(Nslices):\n",
    "    total_amount = total_amount - nolimbdata1['bin_values'][i]\n",
    "    fractional_flux = (total_amount+flux_star)/(flux_star)\n",
    "    if fractional_flux != 1.0: file_out3.write(str(plotrange[i])+';'+ str(fractional_flux)+ '\\n')\n",
    "    nolimb_curve_x.append(plotrange[i])\n",
    "    nolimb_curve_y.append(fractional_flux)\n",
    "    residuals3.append(-fractional_flux+phase_curve[i])\n",
    "    \n",
    "for i in range(len(plotrange3)):\n",
    "    file_out3.write(str(plotrange3[i])+';'+ str(1.0)+ '\\n') \n",
    "    \n",
    "total_amount = 0\n",
    "\n",
    "for i in range(Nslices):\n",
    "    total_amount = total_amount + nolimbdata2['bin_values'][Nslices-i-1]\n",
    "    fractional_flux = (total_amount+flux_star)/(flux_star)\n",
    "    if fractional_flux != 1.0: file_out3.write(str(plotrange2[i])+';'+ str(fractional_flux)+ '\\n')\n",
    "    nolimb_curve_x.append(plotrange2[i])\n",
    "    nolimb_curve_y.append(fractional_flux)\n",
    "    residuals4.append(-fractional_flux+phase_curve[Nslices+i])\n",
    "\n",
    "ax1.plot(nolimb_curve_x,nolimb_curve_y,'-.',c='c',lw=1.4)\n",
    "ax2.plot(nolimb_curve_x,nolimb_curve_y,'-.',c='c', label='No-Limb Model',lw=1.4)\n",
    "fractional_flux = (total_amount+flux_star)/(flux_star)\n",
    "file_out3.write(str(plotrange2[-1]+difference)+';'+ str(fractional_flux)+ '\\n')\n",
    "\n",
    "# Plot the lightcurve data: \n",
    "ax1.set_xlabel('Phase')\n",
    "ax3.set_ylabel('Residuals')\n",
    "straightline=np.linspace(0,0,num=Nslices)\n",
    "residuals11=np.array(residuals1)*-1\n",
    "residuals22=np.array(residuals2)*-1\n",
    "residuals33=np.array(residuals3)*-1\n",
    "residuals44=np.array(residuals4)*-1\n",
    "ax3.plot(plotrange,straightline,c='r')\n",
    "ax4.plot(plotrange2,straightline,c='r')\n",
    "ax3.plot(plotrange,residuals11,c='k')\n",
    "ax4.plot(plotrange2,residuals22,c='k')\n",
    "ax3.plot(plotrange,residuals33,c='c')\n",
    "ax4.plot(plotrange2,residuals44,c='c')\n",
    "ax1.xaxis.set_label_coords(1.05, -0.6)\n",
    "\n",
    "d = .015 # how big to diagonal the diagonal lines in axes coordinates\n",
    "kwargs = dict(transform=ax1.transAxes, color='k', clip_on=False)\n",
    "ax1.plot((1-d,1+d), (-d,+d), **kwargs)\n",
    "ax1.plot((1-d,1+d),(1-d,1+d), **kwargs)\n",
    "\n",
    "kwargs.update(transform=ax2.transAxes) \n",
    "ax2.plot((-d,+d), (1-d,1+d), **kwargs)\n",
    "ax2.plot((-d,+d), (-d,+d), **kwargs)\n",
    "\n",
    "kwargs = dict(transform=ax3.transAxes, color='k', clip_on=False)\n",
    "ax3.plot((1-d,1+d), (-d,+d), **kwargs)\n",
    "ax3.plot((1-d,1+d),(1-d,1+d), **kwargs)\n",
    "\n",
    "kwargs.update(transform=ax4.transAxes) \n",
    "ax4.plot((-d,+d), (1-d,1+d), **kwargs)\n",
    "ax4.plot((-d,+d), (-d,+d), **kwargs)\n",
    "\n",
    "# Plot and show final lightcurve:\n",
    "ax2.legend(fontsize='medium',loc=(-0.40,+0.6))\n",
    "plt.savefig('final_lightcurve.pdf',bbox_inches='tight')\n",
    "plt.show()\n",
    "file_out.close()\n",
    "file_out2.close()\n",
    "file_out3.close()"
   ]
  },
  {
   "cell_type": "code",
   "execution_count": 27,
   "metadata": {},
   "outputs": [
    {
     "name": "stdout",
     "output_type": "stream",
     "text": [
      "174.088517767\n",
      "2185.57829811 1837.40126258\n",
      "0.491628653837\n",
      "130539.237984 20.5 0.0850968108122 0.126 89.65\n"
     ]
    }
   ],
   "source": [
    "# Plot outputs to various variables for debugging only:\n",
    "T_total=(P/pi) * np.arcsin(scale_param**-1 * ((1+k)**2-b**2)**0.5 / (np.sin(inc*pi/180)) )\n",
    "T_full=(P/pi) * np.arcsin(scale_param**-1 * ((1-k)**2-b**2)**0.5 / (np.sin(inc*pi/180)) )\n",
    "print (T_total-T_full)/2\n",
    "print T_total, T_full\n",
    "print 0.5-T_full/(2*P)-(T_total-T_full)/(2*P)\n",
    "print P, scale_param,k,b,inc"
   ]
  },
  {
   "cell_type": "markdown",
   "metadata": {},
   "source": [
    "# Noisy Data Simulation"
   ]
  },
  {
   "cell_type": "code",
   "execution_count": 28,
   "metadata": {
    "scrolled": false
   },
   "outputs": [
    {
     "name": "stdout",
     "output_type": "stream",
     "text": [
      "SNR_JWST:  19.912573537\n",
      "Signal:  9.12047394759e-05\n",
      "t_occultation 2013.34712641\n",
      "4\n",
      "nbins:  58\n",
      "SD:  34.8822115202\n"
     ]
    },
    {
     "data": {
      "text/plain": [
       "<matplotlib.figure.Figure at 0x182dd9da10>"
      ]
     },
     "metadata": {},
     "output_type": "display_data"
    },
    {
     "data": {
      "image/png": "[encoded data removed]",
      "text/plain": [
       "<matplotlib.figure.Figure at 0x182dd9d9d0>"
      ]
     },
     "metadata": {},
     "output_type": "display_data"
    }
   ],
   "source": [
    "# Plot a graph ready to simulate JWST data:\n",
    "plt.clf()\n",
    "fig, (ax1, ax2) = plt.subplots(1, 2, sharex='col', sharey='row')\n",
    "ax1.set_ylim(0.99999, 1.0001)\n",
    "ax2.set_ylim(0.99999, 1.0001)\n",
    "ax1.ticklabel_format(axis='y',style='sci',useOffset=False)\n",
    "ax1.set_xlim(-P_total+Initial,-P_full+Initial)\n",
    "ax2.set_xlim(P_full+Initial,P_total+Initial)\n",
    "myLocator = mticker.MultipleLocator(0.0003)\n",
    "myLocator2 = mticker.MultipleLocator(0.0003)\n",
    "#myLocator3 = mticker.MultipleLocator(0.000002)\n",
    "#myLocator4 = mticker.MultipleLocator(0.000002)\n",
    "ax1.xaxis.set_major_locator(myLocator)\n",
    "ax2.xaxis.set_major_locator(myLocator2)\n",
    "#ax3.yaxis.set_major_locator(myLocator3)\n",
    "#ax4.yaxis.set_major_locator(myLocator4)\n",
    "ax1.spines['right'].set_visible(False)\n",
    "ax2.spines['left'].set_visible(False)\n",
    "ax1.yaxis.tick_left()\n",
    "ax1.tick_params(labeltop='off')\n",
    "ax2.yaxis.tick_right()\n",
    "plt.subplots_adjust(wspace=0.10)\n",
    "ax1.set_xlabel('Phase')\n",
    "ax1.set_ylabel('$F(t)/F$')\n",
    "ax1.xaxis.set_label_coords(1.05, -0.1)\n",
    "d = .015 \n",
    "kwargs = dict(transform=ax1.transAxes, color='k', clip_on=False)\n",
    "ax1.plot((1-d,1+d), (-d,+d), **kwargs)\n",
    "ax1.plot((1-d,1+d),(1-d,1+d), **kwargs)\n",
    "kwargs.update(transform=ax2.transAxes)  # switch to the bottom axes\n",
    "ax2.plot((-d,+d), (1-d,1+d), **kwargs)\n",
    "ax2.plot((-d,+d), (-d,+d), **kwargs)\n",
    "\n",
    "# Convert from spitzer to JWST and generate data.\n",
    "manual_input=False # Enables manually determining sigma_pp. If False, this will be estimated from SNR and cadence.\n",
    "include_middle=True # Include the fully occulted region. If False, only ingress/egress is included.\n",
    "include_extra=True # Include extra region before and after occultation.\n",
    "modify_occultations=False # If true, Spitzer SNR will be scaled to estimate a single occultation\n",
    "N_occultations=20 # No. Spitzer occultations\n",
    "Spit_sig=150. # Spitzer signal and noise estimation.\n",
    "Spit_noise=50.\n",
    "if manual_input==True:\n",
    "    SD=75*1e-6\n",
    "    cadence=30.0\n",
    "    nbins=int(round(t_gress/cadence))\n",
    "    nbins2=int(round(t_occultation/cadence))\n",
    "else:\n",
    "    A_JWST=25. #Area of JWST\n",
    "    A_SPITZER=pi*(0.85/2)**2\n",
    "    SNR_S=3.0 \n",
    "    # If true, scales the spitzer noise to a single occultation.\n",
    "    if modify_occultations==True:\n",
    "        Spit_noise=Spit_noise*(N_occultations)**0.5\n",
    "        SNR_S=Spit_sig/Spit_noise\n",
    "        print \"SNR_S: \", SNR_S\n",
    "    SNR_JWST=SNR_S*(A_JWST/A_SPITZER)**0.5 # Scales SNR to JWST.\n",
    "    print \"SNR_JWST: \", SNR_JWST\n",
    "    # Estimates the signal of the occultation from the model.\n",
    "    Signal=-1+(np.sum(data1['bin_values'])+flux_star)/flux_star \n",
    "    print \"Signal: \", Signal\n",
    "    Noise=Signal/SNR_JWST\n",
    "    SD_total=Noise\n",
    "    # This is the candence between each measurement.\n",
    "    cadence=40.\n",
    "    nbins=int(round(t_gress/cadence))\n",
    "    nbins2=int(round(t_occultation/cadence))\n",
    "    print \"t_occultation\", t_occultation\n",
    "    nbinstotal=nbins*2+nbins2\n",
    "    print nbins\n",
    "    print \"nbins: \", nbinstotal\n",
    "    # SD is the value of sigma per point.\n",
    "    SD=SD_total*(nbinstotal)**0.5\n",
    "    # SD=0.1*1e-6 # Sometimes the SD was manually set here to a small value for debugging the MCMC later on.\n",
    "    print \"SD: \", SD*1e6\n",
    "# Opens output files to save generated data.\n",
    "file_out = open('generated_data1.txt','w')\n",
    "file_out.write('x_values;flux_values' + '\\n')\n",
    "file_out2 = open('generated_data_nomid.txt','w')\n",
    "file_out2.write('x_values;flux_values' + '\\n')\n",
    "# Generate a linear interpolation for each model.\n",
    "interpolation_data=np.genfromtxt('phase_curve1.txt', names=True, delimiter=';',dtype=None)\n",
    "f2 = interp1d(interpolation_data['x_values'], interpolation_data['flux_values'])#, kind='cubic')\n",
    "interpolation_data=np.genfromtxt('phase_curve2.txt', names=True, delimiter=';',dtype=None)\n",
    "f22 = interp1d(interpolation_data['x_values'], interpolation_data['flux_values'])#, kind='cubic')\n",
    "interpolation_data=np.genfromtxt('phase_curve3.txt', names=True, delimiter=';',dtype=None)\n",
    "f23 = interp1d(interpolation_data['x_values'], interpolation_data['flux_values'])#, kind='cubic')\n",
    "\n",
    "# This section will generate and save randomly generated data using the above\n",
    "# calculated SD and this will be performed for the volcano model.\n",
    "\n",
    "xnew = np.linspace(interpolation_data['x_values'][0], plotrange[-1], num=nbins, endpoint=True)\n",
    "xnew2 = np.linspace(plotrange2[0], plotrange2[-1], num=nbins, endpoint=True)\n",
    "if include_extra==True:\n",
    "    xnew4 = np.linspace(plotrange[0]+(plotrange[-1]-plotrange2[0]), plotrange[0], num=nbins2)\n",
    "    for i in range(len(xnew4)):\n",
    "        random_point=np.random.normal(loc=f2(xnew[0]), scale=SD)\n",
    "        file_out.write(str(xnew4[i])+';'+ str(random_point)+ '\\n')\n",
    "for i in range(len(xnew)):\n",
    "    random_point=np.random.normal(loc=f2(xnew[i]), scale=SD)\n",
    "    ax1.scatter(xnew[i],random_point,c='b',s=8,lw=0,zorder=2)\n",
    "    ax1.errorbar(xnew[i],random_point,yerr=SD,c='#696969',lw=1,zorder=1)#,s=6,lw=0)\n",
    "    file_out.write(str(xnew[i])+';'+ str(random_point)+ '\\n')\n",
    "    file_out2.write(str(xnew[i])+';'+ str(random_point)+ '\\n')\n",
    "if include_middle==True: #only writes to middle section\n",
    "    xnew3 = np.linspace(plotrange[-1], plotrange2[0], num=nbins2, endpoint=False)\n",
    "    for i in range(len(xnew3)):\n",
    "        random_point=np.random.normal(loc=f2(xnew3[i]), scale=SD)\n",
    "        file_out.write(str(xnew3[i])+';'+ str(random_point)+ '\\n')\n",
    "for i in range(len(xnew2)):\n",
    "    random_point=np.random.normal(loc=f2(xnew2[i]), scale=SD)\n",
    "    if i == 0: ax2.scatter(xnew2[i],random_point,c='b',s=8,lw=0,label='Generated Data',zorder=2)\n",
    "    else: ax2.scatter(xnew2[i],random_point,c='b',s=8,lw=0,zorder=2)\n",
    "    ax2.errorbar(xnew2[i],random_point,yerr=SD,c='#696969',lw=1,zorder=1)\n",
    "    file_out.write(str(xnew2[i])+';'+ str(random_point)+ '\\n')\n",
    "    file_out2.write(str(xnew2[i])+';'+ str(random_point)+ '\\n')\n",
    "if include_extra==True:\n",
    "    xnew5 = np.linspace(plotrange2[-1], plotrange2[-1]+(plotrange2[0]-plotrange[-1]), num=nbins2, endpoint=False)\n",
    "    for i in range(len(xnew5)):\n",
    "        random_point=np.random.normal(loc=f2(xnew2[-1]), scale=SD)\n",
    "        file_out.write(str(xnew5[i])+';'+ str(random_point)+ '\\n')\n",
    "\n",
    "# Plot the resulting random data for the ingress and egress only.\n",
    "# To plot the full lightcurve, the file generated_data1.txt can be applied.\n",
    "ax1.plot(xnew, f2(xnew), '-', c='r',lw=0.7,label=\"Volcano Model\")\n",
    "ax2.plot(xnew2, f2(xnew2), '-', c='r',lw=0.7,label=\"Volcano Flux\")\n",
    "ax1.plot(xnew, f22(xnew), '-', c='k',lw=0.7,label=\"Uniform Model\")\n",
    "ax2.plot(xnew2, f22(xnew2), '-', c='k',lw=0.7,label=\"Uniform Flux\")\n",
    "ax1.plot(xnew, f23(xnew), '-', c='c',lw=0.7,label=\"No-Limb Model\")\n",
    "ax2.plot(xnew2, f23(xnew2), '-', c='c',lw=0.7,label=\"No-Limb Flux\")\n",
    "ax2.legend(fontsize='medium',loc=(-0.40,+0.65))\n",
    "plt.savefig('generated_lightcurve.pdf',bbox_inches='tight')\n",
    "plt.show()\n",
    "file_out.close()\n",
    "file_out2.close()"
   ]
  },
  {
   "cell_type": "code",
   "execution_count": 29,
   "metadata": {},
   "outputs": [],
   "source": [
    "# Define a function to calculate the chi2 for each model with the random data if necessary.\n",
    "def chi2_calculation (inputfile,interpolation,sigma_value):\n",
    "    chi2file=np.genfromtxt(str(inputfile)+'.txt', names=True, delimiter=';',dtype=None)\n",
    "    chi2_list=[]\n",
    "    for i in range(len(chi2file)):\n",
    "        difference=chi2file['flux_values'][i]-interpolation(float(chi2file['x_values'][i]))\n",
    "        chi2_list.append(difference**2/sigma_value**2)\n",
    "    return np.sum(chi2_list)/(len(chi2file)-2), np.sum(chi2_list), (2*np.sum(chi2_list))**0.5,len(chi2file),np.exp(-0.5*np.sum(chi2_list))\n",
    "\n",
    "# Uncomment these lines to perform the chi2 test:\n",
    "#print \"Reduced chi2 with Volcano Model: \", chi2_calculation('generated_data1',f2,SD)\n",
    "#print \"Reduced chi2 with Uniform Model: \",chi2_calculation('generated_data1',f22,SD)\n",
    "#print \"Reduced chi2 with No Limb-Darkening Model: \",chi2_calculation('generated_data1',f23,SD)"
   ]
  },
  {
   "cell_type": "markdown",
   "metadata": {},
   "source": [
    "# Degeneracy with Eccentricity"
   ]
  },
  {
   "cell_type": "markdown",
   "metadata": {},
   "source": [
    "The next section will plot the degenerate eccentricity results from the MCMC if needed."
   ]
  },
  {
   "cell_type": "code",
   "execution_count": 30,
   "metadata": {
    "scrolled": false
   },
   "outputs": [
    {
     "name": "stdout",
     "output_type": "stream",
     "text": [
      "Use this: [65786.525001015951, 65269.618991999996, 64752.712982984034, 65269.618991999996, 65786.525001015951] [48.200245862989654, 28.057535610547685, 48.200245642213964, 28.057535610547685, 48.200245862989654] (0, 90, 180, 270, 360)\n"
     ]
    },
    {
     "data": {
      "image/png": "[encoded data removed]",
      "text/plain": [
       "<matplotlib.figure.Figure at 0x182dd9d3d0>"
      ]
     },
     "metadata": {},
     "output_type": "display_data"
    },
    {
     "data": {
      "image/png": "[encoded data removed]",
      "text/plain": [
       "<matplotlib.figure.Figure at 0x182e47fb10>"
      ]
     },
     "metadata": {},
     "output_type": "display_data"
    },
    {
     "name": "stdout",
     "output_type": "stream",
     "text": [
      "[[30.82, 32.28, 28.88, 31.65, 31.78], [29.2, 30.67, 30.48, 30.14, 30.19]]\n"
     ]
    },
    {
     "data": {
      "image/png": "[encoded data removed]",
      "text/plain": [
       "<matplotlib.figure.Figure at 0x182e336510>"
      ]
     },
     "metadata": {},
     "output_type": "display_data"
    },
    {
     "name": "stdout",
     "output_type": "stream",
     "text": [
      "[[27.68, 27.52, 26.5, 28.2, 26.74], [33.17, 33.42, 32.18, 31.95, 32.47]]\n"
     ]
    },
    {
     "data": {
      "image/png": "[encoded data removed]",
      "text/plain": [
       "<matplotlib.figure.Figure at 0x182db37310>"
      ]
     },
     "metadata": {},
     "output_type": "display_data"
    }
   ],
   "source": [
    "savefigures=False\n",
    "plt.clf()\n",
    "eccentricity=0.00622\n",
    "angle=0,90,180,270,360\n",
    "angle2=np.arange(361,step=10)\n",
    "scale_param=20.50\n",
    "sigma_scale_param=0.16\n",
    "\n",
    "'''\n",
    "sigma_P=0.60*1e-6*3600*24 #in seconds\n",
    "sigma_e=0.00304 \n",
    "sigma_w=34.24*pi/180 #in radians\n",
    "#sigma_a=0.34*1e-3*AU #in meters\n",
    "#sigma_Rs=0.0036*R_Sun #in meters\n",
    "#sigma_inc=0.27 #in degrees\n",
    "sigma_b=0.092\n",
    "'''\n",
    "\n",
    "# Define errors on each parameter, using optimal values from the T1 system.\n",
    "sigma_P=0.60*1e-6*3600*24 #in seconds\n",
    "sigma_e=0.00058\n",
    "sigma_w=3.11*pi/180 #in radians\n",
    "#sigma_a=0.34*1e-3*AU #in meters\n",
    "#sigma_Rs=0*0.0036*R_Sun #in meters\n",
    "#sigma_inc=0.27 #in degrees\n",
    "sigma_b=0.078\n",
    "\n",
    "delta_t=[]\n",
    "sigma_t=[]\n",
    "sigma_t_position=[]\n",
    "\n",
    "# Plots the result for the midpoint shift from the volcano model.\n",
    "F1=0.50037\n",
    "S1_n=0.00015\n",
    "S1_p=0.00012\n",
    "\n",
    "# Calculate the errors for the delta T values:\n",
    "for i in angle2:\n",
    "    conv=pi/180\n",
    "    omega=i*conv\n",
    "    yval=(P/2)*(1+(4./pi)*eccentricity*np.cos(omega))\n",
    "    delta_t.append(yval)\n",
    "    if i in angle:\n",
    "        eq1=sigma_P*(0.5)*(1+(4./pi)*eccentricity*np.cos(omega))\n",
    "        eq2=sigma_e*(P/2)*((4./pi)*np.cos(omega))\n",
    "        eq3=sigma_w*(P/2)*((-4./pi)*eccentricity*np.sin(omega))\n",
    "        sigma_t_position.append(yval)\n",
    "        sigma_t.append((eq1**2+eq2**2+eq3**2)**0.5)\n",
    "\n",
    "# Print the sigma values to use in the midpoint MCMC generation if needed.\n",
    "print \"Use this:\", sigma_t_position, sigma_t, angle\n",
    "\n",
    "# Plot the results:\n",
    "plt.scatter(angle2,delta_t,c='k',s=5,zorder=2)\n",
    "plt.axhline(P/2,c='k',linestyle='--',label='$e=0$')\n",
    "plt.axhline(P*F1,c='m',label='$F_F/F_T$=1.0')\n",
    "plt.axhspan(P*(F1-S1_n), P*(F1+S1_p), color='m', alpha=0.20)\n",
    "plt.xlabel('Omega (degrees)')\n",
    "plt.ylabel('Transit & Occultation Separation (sec)')\n",
    "plt.legend(loc='lower right')\n",
    "if savefigures==True: plt.savefig('Midpoint_Time_noerrors.pdf')\n",
    "plt.errorbar(angle,sigma_t_position,xerr=sigma_w*180./pi,yerr=sigma_t,c='#696969',lw=1,zorder=1,ls='none')\n",
    "if savefigures==True: plt.savefig('Midpoint_Time.pdf')\n",
    "plt.show()\n",
    "\n",
    "# Plot the combined eccentricity + volcano results:\n",
    "peakdifference=P*F1-P*0.5\n",
    "delta_t2=[]\n",
    "sigma_t2=[]\n",
    "sigma_t2_position=[]\n",
    "counter=0\n",
    "for i in range(len(angle2)):\n",
    "    yval=peakdifference+delta_t[i]\n",
    "    delta_t2.append(peakdifference+delta_t[i])\n",
    "    if angle2[i] in angle:\n",
    "        sigma_t2_position.append(yval)\n",
    "        counter+=1\n",
    "    \n",
    "# Results from the midpoint MCMC generation error values:\n",
    "sigma_t2_p=[50.79,32.60,52.34,31.60,48.79]\n",
    "sigma_t2_n=[50.80,34.02,52.33,34.76,53.67]\n",
    "\n",
    "# Plot the combined results:\n",
    "sigma_t2=[sigma_t2_p,sigma_t2_n]\n",
    "plt.scatter(angle2,delta_t,c='k',s=5,zorder=2)\n",
    "plt.scatter(angle2,delta_t2,c='m',s=5,zorder=2,label='Added Offset')\n",
    "plt.errorbar(angle,sigma_t2_position,xerr=sigma_w*180./pi,yerr=sigma_t2,c='#696969',lw=1,zorder=1,ls='none')\n",
    "plt.axhline(P/2,c='k',linestyle='--',label='$e=0$')\n",
    "plt.xlabel('Omega (degrees)')\n",
    "plt.ylabel('Transit & Occultation Separation (sec)')\n",
    "plt.legend(loc='lower right')\n",
    "if savefigures==True: plt.savefig('Midpoint_Time_combined.pdf')\n",
    "plt.show()\n",
    "\n",
    "#MCMC results for total occultation:\n",
    "F1=0.00794 *2\n",
    "S1_n = 0.00022 *2\n",
    "S1_p = 0.00051 *2\n",
    "\n",
    "delta_t3=[]\n",
    "sigma_t3=[]\n",
    "sigma_t3_position=[]\n",
    "for i in angle2:\n",
    "    conv=pi/180\n",
    "    omega=i*conv\n",
    "    yval=(T_total)*(1-eccentricity**2)**0.5/(1-eccentricity*np.sin(omega))\n",
    "    delta_t3.append(yval)\n",
    "    if i in angle:\n",
    "        sigma_t3_position.append(yval)\n",
    "    \n",
    "# MCMC results for error values:\n",
    "sigma_t3_p=[30.82,32.28,28.88,31.65,31.78]\n",
    "sigma_t3_n=[29.20,30.67,30.48,30.14,30.19]\n",
    "sigma_t3=[sigma_t3_p,sigma_t3_n]\n",
    "print sigma_t3\n",
    "\n",
    "# Plots the results:\n",
    "plt.scatter(angle2,delta_t3,c='k',s=5,zorder=2)\n",
    "plt.errorbar(angle,sigma_t3_position,xerr=sigma_w*180./pi,yerr=sigma_t3,c='#696969',lw=1,zorder=1,ls='none')\n",
    "plt.axhline(T_total,c='k',linestyle='--',label='$e=0$')\n",
    "plt.axhline(P*F1,c='m',label='$F_F/F_T$=1.0')\n",
    "plt.axhspan(P*(F1-S1_n), P*(F1+S1_p), color='m', alpha=0.20)\n",
    "plt.xlabel('Omega (degrees)')\n",
    "plt.ylabel('Total Occultation Duration (sec)')\n",
    "plt.ylim(min(delta_t3)*0.9,max(delta_t3)*1.1)\n",
    "plt.legend(loc='upper right')\n",
    "if savefigures==True: plt.savefig('Duration_Time.pdf')\n",
    "plt.show()\n",
    "\n",
    "# MCMC results for the full occultation time:\n",
    "F1= 0.00749*2\n",
    "S1_n=  0.000516*2\n",
    "S1_p=  0.000218*2\n",
    "\n",
    "delta_t3=[]\n",
    "sigma_t3=[]\n",
    "sigma_t3_position=[]\n",
    "for i in angle2:\n",
    "    conv=pi/180\n",
    "    omega=i*conv\n",
    "    yval=(T_full)*(1-eccentricity**2)**0.5/(1-eccentricity*np.sin(omega))\n",
    "    delta_t3.append(yval)\n",
    "    if i in angle:\n",
    "        sigma_t3_position.append(yval)\n",
    "    \n",
    "# MCMC results for error values:\n",
    "sigma_t3_p=[27.68,27.52,26.50,28.20,26.74]\n",
    "sigma_t3_n=[33.17,33.42,32.18,31.95,32.47]\n",
    "sigma_t3=[sigma_t3_p,sigma_t3_n]\n",
    "print sigma_t3\n",
    "\n",
    "plt.scatter(angle2,delta_t3,c='k',s=5,zorder=2)\n",
    "plt.errorbar(angle,sigma_t3_position,xerr=sigma_w*180./pi,yerr=sigma_t3,c='#696969',lw=1,zorder=1,ls='none')\n",
    "plt.axhline(T_full,c='k',linestyle='--',label='$e=0$')\n",
    "plt.axhline(P*F1,c='m',label='$F_F/F_T$=1.0')\n",
    "plt.axhspan(P*(F1-S1_n), P*(F1+S1_p), color='m', alpha=0.20)\n",
    "plt.xlabel('Omega (degrees)')\n",
    "plt.ylabel('Full Occultation Duration (sec)')\n",
    "plt.ylim(min(delta_t3)*0.9,max(delta_t3)*1.1)\n",
    "plt.legend(loc='lower right')\n",
    "if savefigures==True: plt.savefig('Duration_Time2.pdf')\n",
    "plt.show()"
   ]
  },
  {
   "cell_type": "code",
   "execution_count": 31,
   "metadata": {},
   "outputs": [
    {
     "name": "stdout",
     "output_type": "stream",
     "text": [
      "0.0484537571931 0.0484347975077 0.0484347997333\n",
      "0.00622\n",
      "6.07715965348e-05\n",
      "1.44574020063e-08\n",
      "0.00980037528735 25.0460382525 4026.69425281\n",
      "2.41327246269e-11\n"
     ]
    }
   ],
   "source": [
    "# Print values for debugging only:\n",
    "print t_occultation*pi/P,t_occultation*pi/P-(t_occultation*pi/P)**3/6,np.sin(t_occultation*pi/P)\n",
    "g=eccentricity\n",
    "print g\n",
    "inc2=90.\n",
    "print np.arctan(inc2*pi/180*g**2)\n",
    "print np.arctan(inc2*pi/180*g**2)*np.arcsin(t_occultation/P)**2\n",
    "extrafactor=(t_occultation)**3 * 8\n",
    "print g*1./6 *(2*pi/(4*P))**2 * (extrafactor), g*t_occultation*2,t_occultation*2\n",
    "print 1./6 *(2*pi/(4*P))**2"
   ]
  },
  {
   "cell_type": "markdown",
   "metadata": {},
   "source": [
    "# Image Reconstruction"
   ]
  },
  {
   "cell_type": "code",
   "execution_count": 32,
   "metadata": {
    "scrolled": false
   },
   "outputs": [
    {
     "name": "stdout",
     "output_type": "stream",
     "text": [
      "Starting ingress slicing...\n",
      "Progress: |██████████████████████████████████████████████████| 100.0% Complete()\n",
      "Starting egress slicing...\n",
      "Progress: |██████████████████████████████████████████████████| 100.0% Complete()\n",
      "min pix:  102.677101718\n",
      "Filename: reconstruction1521807000.31.fits\n",
      "No.    Name      Ver    Type      Cards   Dimensions   Format\n",
      "  0  PRIMARY       1 PrimaryHDU       6   (1500, 1500)   int64   \n",
      "<type 'numpy.ndarray'>\n",
      "(1500, 1500)\n"
     ]
    },
    {
     "data": {
      "image/png": "[encoded data removed]",
      "text/plain": [
       "<matplotlib.figure.Figure at 0x1827faea10>"
      ]
     },
     "metadata": {},
     "output_type": "display_data"
    },
    {
     "data": {
      "image/png": "[encoded data removed]",
      "text/plain": [
       "<matplotlib.figure.Figure at 0x112b15250>"
      ]
     },
     "metadata": {},
     "output_type": "display_data"
    },
    {
     "name": "stdout",
     "output_type": "stream",
     "text": [
      "Success.\n"
     ]
    }
   ],
   "source": [
    "# Define a progress bar for image reconstruction:\n",
    "def printProgressBar (iteration, total, prefix = '', suffix = '', decimals = 1, length = 100, fill = '█'):\n",
    "    percent = (\"{0:.\" + str(decimals) + \"f}\").format(100 * (iteration / float(total)))\n",
    "    filledLength = int(length * iteration // total)\n",
    "    bar = fill * filledLength + '-' * (length - filledLength)\n",
    "    stdout.write('\\r%s |%s| %s%% %s' % (prefix, bar, percent, suffix))\n",
    "    stdout.flush()\n",
    "    if iteration == total: \n",
    "        print()\n",
    "\n",
    "# Defines the prior of the planet being a circle:\n",
    "fig, ax = plt.subplots()\n",
    "plt.axis([0,data3['x'],0,data3['y']])\n",
    "x_min = 0\n",
    "x_max = data3['x']\n",
    "y_min = 0\n",
    "y_max = data3['y']\n",
    "circle_x = (x_max-x_min)/2.\n",
    "circle_y = (y_max-y_min)/2.\n",
    "circ=plt.Circle((circle_x,circle_y), radius=data3['x']/2., color='c', fill=False)\n",
    "ax.add_artist(circ)\n",
    "\n",
    "# Defines slicing length and angle as prior knowledge.\n",
    "slice_length=data3['slice_length']\n",
    "angle=data3['angle']\n",
    "angle2=(pi/2)-angle\n",
    "\n",
    "# Determine difference between bin values (flux) for the volcano model:\n",
    "current_bin.append(0)\n",
    "for i in range(Nslices*2):\n",
    "    if i == 0:\n",
    "        continue\n",
    "    difference = phase_curve2[i]-phase_curve2[i-1]\n",
    "    current_bin.append(np.abs(difference))\n",
    "\n",
    "# Initialise variables\n",
    "test_amount=0\n",
    "x=[0,0]\n",
    "y=[0,0]\n",
    "nDone=0\n",
    "stime = time()\n",
    "total_pixels=0\n",
    "test=0\n",
    "values_test = np.zeros(shape=(data3['x'],data3['y']))\n",
    "values_test2 = np.zeros(shape=(data3['x'],data3['y']))\n",
    "#reconstruction_test = np.zeros(shape=(data3['x'],data3['y']))\n",
    "reconstruction_test = np.full((data3['x'],data3['y']), 0, dtype=int)\n",
    "\n",
    "print \"Starting ingress slicing...\"\n",
    "\n",
    "###\n",
    "\n",
    "# Define reconstruction function to be called for ingress and egress.\n",
    "# This is heavily based on the previous slicing algorithm, but instead build an image from slices.\n",
    "def ingress_reconstruction(Nslices,angle,angle2,slice_length,ingress,multiply):\n",
    "    \n",
    "    # Initialise variables\n",
    "    nDone, test, total_pixels=0, 0, 0\n",
    "    error=False\n",
    "    min_pix=1e9\n",
    "    x, y=[0,0], [0,0]\n",
    "\n",
    "    \n",
    "    for l in range(Nslices):\n",
    "        if error == True: break\n",
    "        # For each slice, plot the slicing lines as previously.\n",
    "        if l != Nslices :\n",
    "            linelength=(data3['x']**2+data3['y']**2)**(0.5)\n",
    "\n",
    "            if ingress == True:\n",
    "                offsetx=(l+1)*slice_length*np.cos(angle2)\n",
    "                offsety=-(l+1)*slice_length*np.sin(angle2)\n",
    "            elif ingress == False:\n",
    "                offsetx=data3['x']-(l+1)*slice_length*np.cos(angle2)\n",
    "                offsety=(l+1)*slice_length*np.sin(angle2)\n",
    "\n",
    "            x_old, y_old = x, y\n",
    "\n",
    "            x = [offsetx-linelength*np.cos(angle), offsetx+linelength*np.cos(angle)]\n",
    "            y = [offsety-linelength*np.sin(angle), offsety+linelength*np.sin(angle)]\n",
    "\n",
    "            plt.plot(x, y, 'r')\n",
    "\n",
    "        for i in range(data3['x']):\n",
    "            found = False\n",
    "            if error == True: break\n",
    "            if np.any([values_test[i]==0]) == False: continue\n",
    "            for j in range(data3['y']):\n",
    "                    if values_test[i,j] != 0: continue\n",
    "                    # Determine for each pixel if it lies within the slicing lines and within\n",
    "                    # the dimensions of the circular planet.\n",
    "                    d=(i-x[0])*(y[1]-y[0])-(j-y[0])*(x[1]-x[0])\n",
    "                    d_last=(i-x_old[0])*(y_old[1]-y_old[0])-(j-y_old[0])*(x_old[1]-x_old[0])\n",
    "                    d2=(i - circle_x)**2 + (j - circle_y)**2\n",
    "                    if d>0 and d_last<=0:\n",
    "                        found = True\n",
    "                        if d2**0.5 < x_max/2.:\n",
    "                            # If pixel lies within range, add +1 to the total area in the slice.\n",
    "                            # This is used to find delta A.\n",
    "                            total_pixels+=1.0\n",
    "                        try:\n",
    "                            if values_test[i,j] == 0: values_test[i,j] = l+1\n",
    "                        except Exception as e:\n",
    "                            if test == 0:\n",
    "                                print \"ERROR: \", i, j\n",
    "                                test +=1\n",
    "                        continue\n",
    "                    # Use the same time-saving algorithms as previous:\n",
    "                    elif found == True: break\n",
    "                    elif d<0 and d_last<=0:\n",
    "                        if values_test[i,j] == 0: break\n",
    "                    elif d>0 and d_last>=0:\n",
    "                        if values_test[i,j] == 0: break\n",
    "                    else:\n",
    "                        print \"ERROR!\"\n",
    "                        error=True\n",
    "                        break\n",
    "        if total_pixels==0:\n",
    "            pixel_value = 0\n",
    "        else:\n",
    "            try:\n",
    "                # Average the flux across the entire area for each slice.\n",
    "                if ingress == True: pixel_value=current_bin[l]/total_pixels\n",
    "                elif ingress == False: pixel_value=current_bin[Nslices*2-l-1]/total_pixels\n",
    "                if pixel_value <= min_pix:\n",
    "                    min_pix=pixel_value\n",
    "            except Exception as e:\n",
    "                print e\n",
    "                pixel_value=1\n",
    "        total_pixels=0\n",
    "\n",
    "        # Repear the process to assign each pixel in a slice with the average intensity.\n",
    "        for i in range(data3['x']):\n",
    "            found = False\n",
    "            if error == True: break\n",
    "            if np.any([values_test2[i]==0]) == False: continue\n",
    "            for j in range(data3['y']):\n",
    "                    if values_test2[i,j] != 0: continue\n",
    "                    d=(i-x[0])*(y[1]-y[0])-(j-y[0])*(x[1]-x[0])\n",
    "                    d_last=(i-x_old[0])*(y_old[1]-y_old[0])-(j-y_old[0])*(x_old[1]-x_old[0])\n",
    "                    d2=(i - circle_x)**2 + (j - circle_y)**2\n",
    "                    if d>0 and d_last<=0:# and d2**0.5 < x_max/2.:\n",
    "                        found = True\n",
    "                        if d2**0.5 < x_max/2.:\n",
    "                            # Can additively or multiplicatively combine flux for each pixel.\n",
    "                            if ingress == True or multiply == False: reconstruction_test[i,j] += pixel_value\n",
    "                            elif ingress == False: reconstruction_test[i,j] = pixel_value * reconstruction_test[i,j]\n",
    "                            else:\n",
    "                                error=True\n",
    "                                print \"ERROR!\"\n",
    "                        try:\n",
    "                            if values_test2[i,j] == 0: values_test2[i,j] = l+1\n",
    "                        except Exception as e:\n",
    "                            if test == 0:\n",
    "                                print \"ERROR: \", i, j\n",
    "                                test +=1\n",
    "                        continue\n",
    "                    elif found == True: break\n",
    "                    elif d<0 and d_last<=0:\n",
    "                        if values_test2[i,j] == 0: break\n",
    "                    elif d>0 and d_last>=0:\n",
    "                        if values_test2[i,j] == 0: break\n",
    "                    else:\n",
    "                        print \"ERROR!\"\n",
    "                        error=True\n",
    "                        break\n",
    "        \n",
    "        printProgressBar(l + 1, Nslices, prefix = 'Progress:', suffix = 'Complete', length = 50)\n",
    "    return min_pix\n",
    "\n",
    "# Call function for the ingress reconstruction.\n",
    "printProgressBar(0, Nslices, prefix = 'Progress:', suffix = 'Complete', length = 50)\n",
    "min_pix = ingress_reconstruction(Nslices,angle,angle2,slice_length,ingress=True,multiply=False)\n",
    "\n",
    "# Repeat for the egress reconstruction.\n",
    "print \"Starting egress slicing...\"\n",
    "values_test = np.zeros(shape=(data3['x'],data3['y']))\n",
    "values_test2 = np.zeros(shape=(data3['x'],data3['y']))\n",
    "angle=-angle\n",
    "angle2=(pi/2)-angle\n",
    "slice_length=np.abs(slice_length)\n",
    "stime=time()\n",
    "total_pixels=0\n",
    "printProgressBar(0, Nslices, prefix = 'Progress:', suffix = 'Complete', length = 50)\n",
    "min_pix2 = ingress_reconstruction(Nslices,angle,angle2,slice_length,ingress=False,multiply=False)\n",
    "\n",
    "# Find the minimum picel value, and define region outside planetary radius as this average value.\n",
    "# This improves the contrast of the reconstructed planet within DS9.\n",
    "print \"min pix: \", min_pix\n",
    "lowest_value=1e9\n",
    "for i in range(x_dimension): #loop through x pixels\n",
    "    for j in range(y_dimension): #loop through y pixels\n",
    "        d=(i - circle_x)**2 + (j - circle_y)**2 #calculate distance of pixel to circle centre\n",
    "        if d**0.5 < x_dimension/2.: #determine if distance lies inside radial size of planet\n",
    "            if reconstruction_test[i,j] < lowest_value:\n",
    "                lowest_value=reconstruction_test[i,j]\n",
    "for i in range(x_dimension): #loop through x pixels\n",
    "    for j in range(y_dimension): #loop through y pixels\n",
    "        d=(i - circle_x)**2 + (j - circle_y)**2 #calculate distance of pixel to circle centre\n",
    "        if d**0.5 > x_dimension/2.: #determine if distance lies outside radial size of planet\n",
    "            reconstruction_test[i,j]=lowest_value\n",
    "\n",
    "# Save reconstructed fits file.\n",
    "reconstruction_test = np.transpose(reconstruction_test)\n",
    "hdu = fits.PrimaryHDU(reconstruction_test)\n",
    "hdu.writeto('reconstruction'+str(stime)+'.fits')\n",
    "\n",
    "# Save debugging fits file.\n",
    "values_test2 = np.transpose(values_test2)\n",
    "hdu = fits.PrimaryHDU(values_test2)\n",
    "hdu.writeto('values'+str(stime)+'.fits')\n",
    "\n",
    "hdu_list = fits.open('reconstruction'+str(stime)+'.fits')\n",
    "hdu_list.info()\n",
    "image_data = hdu_list[0].data\n",
    "print(type(image_data))\n",
    "print(image_data.shape)\n",
    "hdu_list.close()\n",
    "plt.imshow(image_data, cmap='gray')\n",
    "\n",
    "plt.savefig('combination.pdf')\n",
    "plt.show()\n",
    "plt.clf()\n",
    "plt.imshow(image_data, cmap='gray')\n",
    "plt.colorbar()\n",
    "plt.savefig('reconstructed.pdf')\n",
    "plt.show()\n",
    "\n",
    "print \"Success.\""
   ]
  },
  {
   "cell_type": "code",
   "execution_count": 33,
   "metadata": {},
   "outputs": [
    {
     "data": {
      "text/plain": [
       "False"
      ]
     },
     "execution_count": 33,
     "metadata": {},
     "output_type": "execute_result"
    }
   ],
   "source": [
    "# Test to make sure all pixels were tested. Should return 'false' if algorithm functioned correctly.\n",
    "np.any([values_test==0])"
   ]
  },
  {
   "cell_type": "markdown",
   "metadata": {},
   "source": [
    "# Contour Plots"
   ]
  },
  {
   "cell_type": "code",
   "execution_count": 34,
   "metadata": {},
   "outputs": [
    {
     "data": {
      "image/png": "[encoded data removed]",
      "text/plain": [
       "<matplotlib.figure.Figure at 0x182c719450>"
      ]
     },
     "metadata": {},
     "output_type": "display_data"
    },
    {
     "data": {
      "image/png": "[encoded data removed]",
      "text/plain": [
       "<matplotlib.figure.Figure at 0x182b503510>"
      ]
     },
     "metadata": {},
     "output_type": "display_data"
    }
   ],
   "source": [
    "# Define a cropping function to display only inner region.\n",
    "def crop_center(img,cropx,cropy):\n",
    "    y,x = img.shape\n",
    "    startx = x//2-(cropx//2)\n",
    "    starty = y//2-(cropy//2)    \n",
    "    return img[starty:starty+cropy,startx:startx+cropx]\n",
    "\n",
    "# Degerate and display two contour plots.\n",
    "# One for the whole model. Another for just the inner region.\n",
    "x=np.linspace(1,data3['x'],num=data3['x'])\n",
    "y=np.linspace(1,data3['y'],num=data3['y'])\n",
    "contours = plt.contourf(x,y,reconstruction_test)\n",
    "plt.colorbar()\n",
    "plt.savefig('contour.pdf')\n",
    "plt.show()\n",
    "cropvalues=[700.,700.]\n",
    "reconstruction_test2=crop_center(reconstruction_test,int(cropvalues[0]),int(cropvalues[1]))\n",
    "x=np.linspace(data3['x']/2-cropvalues[0]/2,data3['x']/2+cropvalues[0]/2,num=int(cropvalues[0]))\n",
    "y=np.linspace(data3['y']/2-cropvalues[1]/2,data3['y']/2+cropvalues[1]/2,num=int(cropvalues[1]))\n",
    "contours2 = plt.contourf(x,y,reconstruction_test2)\n",
    "plt.colorbar()\n",
    "plt.savefig('contourzoomed.pdf')\n",
    "plt.show()"
   ]
  }
 ],
 "metadata": {
  "anaconda-cloud": {},
  "kernelspec": {
   "display_name": "Python [conda root]",
   "language": "python",
   "name": "conda-root-py"
  },
  "language_info": {
   "codemirror_mode": {
    "name": "ipython",
    "version": 2
   },
   "file_extension": ".py",
   "mimetype": "text/x-python",
   "name": "python",
   "nbconvert_exporter": "python",
   "pygments_lexer": "ipython2",
   "version": "2.7.14"
  },
  "nbpresent": {
   "slides": {
    "0ae23224-d86f-46e0-ba40-caefb10c8456": {
     "id": "0ae23224-d86f-46e0-ba40-caefb10c8456",
     "prev": "b0ad6526-189a-45fb-8d20-d3dc0665ad7b",
     "regions": {
      "cbf726e6-f570-4897-bf12-bde008417bf5": {
       "attrs": {
        "height": 0.8,
        "width": 0.8,
        "x": 0.1,
        "y": 0.1
       },
       "content": {
        "cell": "cba9db44-e36e-4e51-9546-c75410ef5836",
        "part": "whole"
       },
       "id": "cbf726e6-f570-4897-bf12-bde008417bf5"
      }
     }
    },
    "0b2ffa5c-dda6-40e4-901d-d67bb52bbb53": {
     "id": "0b2ffa5c-dda6-40e4-901d-d67bb52bbb53",
     "prev": "0bf332be-65c1-4a3f-9c56-575bb0ee3238",
     "regions": {
      "54072ca3-f8ad-4f6d-8301-6337e0fc916e": {
       "attrs": {
        "height": 0.8,
        "width": 0.8,
        "x": 0.1,
        "y": 0.1
       },
       "content": {
        "cell": "dfe686e2-2fc8-4969-97bd-d1119350b4cd",
        "part": "whole"
       },
       "id": "54072ca3-f8ad-4f6d-8301-6337e0fc916e"
      }
     }
    },
    "0bf332be-65c1-4a3f-9c56-575bb0ee3238": {
     "id": "0bf332be-65c1-4a3f-9c56-575bb0ee3238",
     "prev": "12d9e2a8-aa0c-4754-973b-3ae397522f76",
     "regions": {
      "9a1d154e-19f3-41c9-8570-18d2498f3496": {
       "attrs": {
        "height": 0.8,
        "width": 0.8,
        "x": 0.1,
        "y": 0.1
       },
       "content": {
        "cell": "e20639f5-3e0b-4633-a77b-dfb58fab6628",
        "part": "whole"
       },
       "id": "9a1d154e-19f3-41c9-8570-18d2498f3496"
      }
     }
    },
    "0dc24025-5487-4342-9390-374d496c0a30": {
     "id": "0dc24025-5487-4342-9390-374d496c0a30",
     "prev": "4dd7bfa5-539f-403a-a59d-f203e905a94a",
     "regions": {
      "e4c34858-33e5-44fb-bbb6-9ec3213d48e4": {
       "attrs": {
        "height": 0.8,
        "width": 0.8,
        "x": 0.1,
        "y": 0.1
       },
       "content": {
        "cell": "2c66e496-87df-48da-9ef3-45701e6bd8ca",
        "part": "whole"
       },
       "id": "e4c34858-33e5-44fb-bbb6-9ec3213d48e4"
      }
     }
    },
    "12d9e2a8-aa0c-4754-973b-3ae397522f76": {
     "id": "12d9e2a8-aa0c-4754-973b-3ae397522f76",
     "prev": "d16b44e6-f5d8-4a4a-9f94-5772221a5ea5",
     "regions": {
      "ebf49a2c-5758-4a95-b1dd-028f022d6950": {
       "attrs": {
        "height": 0.8,
        "width": 0.8,
        "x": 0.1,
        "y": 0.1
       },
       "content": {
        "cell": "e63b76c7-c7a3-4909-a48c-bb8cc62d0b5f",
        "part": "whole"
       },
       "id": "ebf49a2c-5758-4a95-b1dd-028f022d6950"
      }
     }
    },
    "19739a43-44b1-4892-9d7c-7873872502d3": {
     "id": "19739a43-44b1-4892-9d7c-7873872502d3",
     "prev": "4002539a-2603-4259-a3c3-c97b3af163c1",
     "regions": {
      "03379b71-821d-4b79-b638-dae1535640fd": {
       "attrs": {
        "height": 0.8,
        "width": 0.8,
        "x": 0.1,
        "y": 0.1
       },
       "content": {
        "cell": "35265f72-e3b9-4a25-8b3d-d9e5108b1fc3",
        "part": "whole"
       },
       "id": "03379b71-821d-4b79-b638-dae1535640fd"
      }
     }
    },
    "2994de97-e15e-4f5b-841f-dac2b7c93739": {
     "id": "2994de97-e15e-4f5b-841f-dac2b7c93739",
     "prev": "8702c742-47da-4476-820a-f69d751c7ffa",
     "regions": {
      "03412480-cc32-40b5-97c7-f4d819157a62": {
       "attrs": {
        "height": 0.8,
        "width": 0.8,
        "x": 0.1,
        "y": 0.1
       },
       "content": {
        "cell": "3fa7136a-c212-4d21-adec-01436924f5ce",
        "part": "whole"
       },
       "id": "03412480-cc32-40b5-97c7-f4d819157a62"
      }
     }
    },
    "2ea74aa8-0968-4b65-b05c-8c259b1cb26e": {
     "id": "2ea74aa8-0968-4b65-b05c-8c259b1cb26e",
     "prev": "f1197a9c-4c13-46fa-9cb8-8df66b3f1b51",
     "regions": {
      "ecbae396-7992-4cde-a795-62597cefe8ba": {
       "attrs": {
        "height": 0.8,
        "width": 0.8,
        "x": 0.1,
        "y": 0.1
       },
       "content": {
        "cell": "32fae05f-de6e-4fd4-9707-e6d2041c1d1c",
        "part": "whole"
       },
       "id": "ecbae396-7992-4cde-a795-62597cefe8ba"
      }
     }
    },
    "381f71a2-9abb-41aa-b189-971cea6d5f8c": {
     "id": "381f71a2-9abb-41aa-b189-971cea6d5f8c",
     "prev": "c5d8d537-0181-4ab8-8f9a-9e3bf992aad0",
     "regions": {
      "c1c04454-6edd-4f86-a3db-4f9cb142992b": {
       "attrs": {
        "height": 0.8,
        "width": 0.8,
        "x": 0.1,
        "y": 0.1
       },
       "content": {
        "cell": "31b62f6b-3e99-4af6-aac9-bfd619c53ee3",
        "part": "whole"
       },
       "id": "c1c04454-6edd-4f86-a3db-4f9cb142992b"
      }
     }
    },
    "3ecbbedc-aa54-4932-a07d-73ee2465068c": {
     "id": "3ecbbedc-aa54-4932-a07d-73ee2465068c",
     "prev": "2ea74aa8-0968-4b65-b05c-8c259b1cb26e",
     "regions": {
      "ab1508af-b171-4e48-bf79-eacc9588ef8d": {
       "attrs": {
        "height": 0.8,
        "width": 0.8,
        "x": 0.1,
        "y": 0.1
       },
       "content": {
        "cell": "1fe9748d-4615-4e48-8173-43273a3fc123",
        "part": "whole"
       },
       "id": "ab1508af-b171-4e48-bf79-eacc9588ef8d"
      }
     }
    },
    "3fe0ed98-f810-4d2d-a261-f1d84baf237a": {
     "id": "3fe0ed98-f810-4d2d-a261-f1d84baf237a",
     "prev": "3ecbbedc-aa54-4932-a07d-73ee2465068c",
     "regions": {
      "a8783558-852a-4fae-bdf8-cd847b10b34f": {
       "attrs": {
        "height": 0.8,
        "width": 0.8,
        "x": 0.1,
        "y": 0.1
       },
       "content": {
        "cell": "3df61c18-2c40-4de1-8417-c2bc37fa81e8",
        "part": "whole"
       },
       "id": "a8783558-852a-4fae-bdf8-cd847b10b34f"
      }
     }
    },
    "4002539a-2603-4259-a3c3-c97b3af163c1": {
     "id": "4002539a-2603-4259-a3c3-c97b3af163c1",
     "prev": "d9f0393f-05cd-40f0-a640-c17d0564a8ac",
     "regions": {
      "037500ba-b794-474f-99b8-0539a9000555": {
       "attrs": {
        "height": 0.8,
        "width": 0.8,
        "x": 0.1,
        "y": 0.1
       },
       "content": {
        "cell": "2c23e830-7305-46e4-b16a-add723b8dacf",
        "part": "whole"
       },
       "id": "037500ba-b794-474f-99b8-0539a9000555"
      }
     }
    },
    "4dd7bfa5-539f-403a-a59d-f203e905a94a": {
     "id": "4dd7bfa5-539f-403a-a59d-f203e905a94a",
     "prev": "0b2ffa5c-dda6-40e4-901d-d67bb52bbb53",
     "regions": {
      "83c5dbf0-e75d-40a8-8b3b-ecf9754a6d32": {
       "attrs": {
        "height": 0.8,
        "width": 0.8,
        "x": 0.1,
        "y": 0.1
       },
       "content": {
        "cell": "791aac36-a4a6-40fc-b44f-283b7ff10bb7",
        "part": "whole"
       },
       "id": "83c5dbf0-e75d-40a8-8b3b-ecf9754a6d32"
      }
     }
    },
    "5e580872-6433-48f5-a0e4-a7634d1e9475": {
     "id": "5e580872-6433-48f5-a0e4-a7634d1e9475",
     "prev": "19739a43-44b1-4892-9d7c-7873872502d3",
     "regions": {
      "9a3c38ad-6f1f-43a3-91ba-52bc9232f0a4": {
       "attrs": {
        "height": 0.8,
        "width": 0.8,
        "x": 0.1,
        "y": 0.1
       },
       "content": {
        "cell": "4b6ffb80-e1ec-41b0-9003-ae78a4e079a1",
        "part": "whole"
       },
       "id": "9a3c38ad-6f1f-43a3-91ba-52bc9232f0a4"
      }
     }
    },
    "6eedb797-8717-42e4-aff7-901b8c41b2ba": {
     "id": "6eedb797-8717-42e4-aff7-901b8c41b2ba",
     "prev": "2994de97-e15e-4f5b-841f-dac2b7c93739",
     "regions": {
      "13310c6f-c0dd-4159-972a-90ec174fb6cf": {
       "attrs": {
        "height": 0.8,
        "width": 0.8,
        "x": 0.1,
        "y": 0.1
       },
       "content": {
        "cell": "b0555561-a274-49a9-a9b5-a48ea9cb2f01",
        "part": "whole"
       },
       "id": "13310c6f-c0dd-4159-972a-90ec174fb6cf"
      }
     }
    },
    "806a67b5-2835-44f5-ae36-f18024b25d89": {
     "id": "806a67b5-2835-44f5-ae36-f18024b25d89",
     "prev": "3fe0ed98-f810-4d2d-a261-f1d84baf237a",
     "regions": {
      "11b3f236-3109-429f-b82e-831591eebefc": {
       "attrs": {
        "height": 0.8,
        "width": 0.8,
        "x": 0.1,
        "y": 0.1
       },
       "content": {
        "cell": "b3ee3ae5-2ec1-4cb3-b560-fb7316b30285",
        "part": "whole"
       },
       "id": "11b3f236-3109-429f-b82e-831591eebefc"
      }
     }
    },
    "8702c742-47da-4476-820a-f69d751c7ffa": {
     "id": "8702c742-47da-4476-820a-f69d751c7ffa",
     "prev": "bb4ad3f5-8b95-4a98-9034-a38c8a5044ae",
     "regions": {
      "764d251a-f42f-42c2-bc8a-85bb8d5d6123": {
       "attrs": {
        "height": 0.8,
        "width": 0.8,
        "x": 0.1,
        "y": 0.1
       },
       "content": {
        "cell": "9ccd47a6-d916-4bbe-9811-a90c8c46831d",
        "part": "whole"
       },
       "id": "764d251a-f42f-42c2-bc8a-85bb8d5d6123"
      }
     }
    },
    "88595bf3-fc3c-4754-bc47-43f18d541826": {
     "id": "88595bf3-fc3c-4754-bc47-43f18d541826",
     "prev": "ac15f9ab-1f1f-4fa7-9d39-17b6907cfefe",
     "regions": {
      "9683230f-ff71-47eb-a732-915867126a37": {
       "attrs": {
        "height": 0.8,
        "width": 0.8,
        "x": 0.1,
        "y": 0.1
       },
       "content": {
        "cell": "82350a8e-8333-4dec-b4e9-78f4d2524f86",
        "part": "whole"
       },
       "id": "9683230f-ff71-47eb-a732-915867126a37"
      }
     }
    },
    "8d703ad5-4673-458d-93bd-62117e4556f1": {
     "id": "8d703ad5-4673-458d-93bd-62117e4556f1",
     "prev": "a352e29f-95a5-4a8f-ac1c-d493de0af5e3",
     "regions": {
      "4defd077-5f14-4dc1-8d9e-ed791b7f15c5": {
       "attrs": {
        "height": 0.8,
        "width": 0.8,
        "x": 0.1,
        "y": 0.1
       },
       "content": {
        "cell": "8da2e284-9aa5-40e8-ab10-c87ae64e6b95",
        "part": "whole"
       },
       "id": "4defd077-5f14-4dc1-8d9e-ed791b7f15c5"
      }
     }
    },
    "a29a8b5f-8a3e-4d45-8e65-fc82c331f130": {
     "id": "a29a8b5f-8a3e-4d45-8e65-fc82c331f130",
     "prev": "0dc24025-5487-4342-9390-374d496c0a30",
     "regions": {
      "08e0b509-36ab-43b9-9c7d-57df23c7905f": {
       "attrs": {
        "height": 0.8,
        "width": 0.8,
        "x": 0.1,
        "y": 0.1
       },
       "content": {
        "cell": "c82e895f-bac7-4607-a1e3-6252872c42c2",
        "part": "whole"
       },
       "id": "08e0b509-36ab-43b9-9c7d-57df23c7905f"
      }
     }
    },
    "a352e29f-95a5-4a8f-ac1c-d493de0af5e3": {
     "id": "a352e29f-95a5-4a8f-ac1c-d493de0af5e3",
     "prev": "f3afc619-bc38-4df2-b141-9ecd4ab0d5f2",
     "regions": {
      "8a1db62b-84fc-461d-a262-4b173f0fdfc1": {
       "attrs": {
        "height": 0.8,
        "width": 0.8,
        "x": 0.1,
        "y": 0.1
       },
       "content": {
        "cell": "75c009be-c4df-4c15-8144-f2554059f778",
        "part": "whole"
       },
       "id": "8a1db62b-84fc-461d-a262-4b173f0fdfc1"
      }
     }
    },
    "a9cd7950-5f54-424e-bcbe-4fa967ab8aec": {
     "id": "a9cd7950-5f54-424e-bcbe-4fa967ab8aec",
     "prev": "6eedb797-8717-42e4-aff7-901b8c41b2ba",
     "regions": {
      "14454c08-8a43-4a33-a84c-4f5e2f466441": {
       "attrs": {
        "height": 0.8,
        "width": 0.8,
        "x": 0.1,
        "y": 0.1
       },
       "content": {
        "cell": "a6425918-f5a9-4d07-b1ec-e76d0af2d1da",
        "part": "whole"
       },
       "id": "14454c08-8a43-4a33-a84c-4f5e2f466441"
      }
     }
    },
    "ac15f9ab-1f1f-4fa7-9d39-17b6907cfefe": {
     "id": "ac15f9ab-1f1f-4fa7-9d39-17b6907cfefe",
     "prev": "806a67b5-2835-44f5-ae36-f18024b25d89",
     "regions": {
      "8251a17f-1bde-435a-bbac-dad38998ca19": {
       "attrs": {
        "height": 0.8,
        "width": 0.8,
        "x": 0.1,
        "y": 0.1
       },
       "content": {
        "cell": "02b52cfa-9e0a-4bdf-a0a4-8b4e189f632f",
        "part": "whole"
       },
       "id": "8251a17f-1bde-435a-bbac-dad38998ca19"
      }
     }
    },
    "b0ad6526-189a-45fb-8d20-d3dc0665ad7b": {
     "id": "b0ad6526-189a-45fb-8d20-d3dc0665ad7b",
     "prev": "5e580872-6433-48f5-a0e4-a7634d1e9475",
     "regions": {
      "6ea7cb81-ef64-42aa-8a02-2de55664969a": {
       "attrs": {
        "height": 0.8,
        "width": 0.8,
        "x": 0.1,
        "y": 0.1
       },
       "content": {
        "cell": "7ac1e33c-da24-46eb-a40b-e421ad769f57",
        "part": "whole"
       },
       "id": "6ea7cb81-ef64-42aa-8a02-2de55664969a"
      }
     }
    },
    "bb4ad3f5-8b95-4a98-9034-a38c8a5044ae": {
     "id": "bb4ad3f5-8b95-4a98-9034-a38c8a5044ae",
     "prev": "0ae23224-d86f-46e0-ba40-caefb10c8456",
     "regions": {
      "88593521-4bdb-4ffe-9482-039bca534483": {
       "attrs": {
        "height": 0.8,
        "width": 0.8,
        "x": 0.1,
        "y": 0.1
       },
       "content": {
        "cell": "d8173e7b-d8ff-4c4b-9067-3565bb4b408a",
        "part": "whole"
       },
       "id": "88593521-4bdb-4ffe-9482-039bca534483"
      }
     }
    },
    "c1078141-b3e7-4be9-8ec7-66655d935f45": {
     "id": "c1078141-b3e7-4be9-8ec7-66655d935f45",
     "prev": null,
     "regions": {
      "912c8554-305d-468a-8cc0-89dcd4465d79": {
       "attrs": {
        "height": 0.8,
        "width": 0.8,
        "x": 0.1,
        "y": 0.1
       },
       "content": {
        "cell": "ecb69068-6129-4ad0-aa08-46bef73f732e",
        "part": "whole"
       },
       "id": "912c8554-305d-468a-8cc0-89dcd4465d79"
      }
     }
    },
    "c5d8d537-0181-4ab8-8f9a-9e3bf992aad0": {
     "id": "c5d8d537-0181-4ab8-8f9a-9e3bf992aad0",
     "prev": "88595bf3-fc3c-4754-bc47-43f18d541826",
     "regions": {
      "65a105aa-a7b0-4bb9-ac63-f022c128c056": {
       "attrs": {
        "height": 0.8,
        "width": 0.8,
        "x": 0.1,
        "y": 0.1
       },
       "content": {
        "cell": "74041e30-d686-47b5-b77d-c9da0aecea7e",
        "part": "whole"
       },
       "id": "65a105aa-a7b0-4bb9-ac63-f022c128c056"
      }
     }
    },
    "d095e05f-b05e-44bb-a360-13cf44d7c1ca": {
     "id": "d095e05f-b05e-44bb-a360-13cf44d7c1ca",
     "prev": "c1078141-b3e7-4be9-8ec7-66655d935f45",
     "regions": {
      "4403c634-412e-4a78-a656-1e1494d9117f": {
       "attrs": {
        "height": 0.8,
        "width": 0.8,
        "x": 0.1,
        "y": 0.1
       },
       "content": {
        "cell": "4e3a7e24-0100-4a50-8367-e24706991186",
        "part": "whole"
       },
       "id": "4403c634-412e-4a78-a656-1e1494d9117f"
      }
     }
    },
    "d16b44e6-f5d8-4a4a-9f94-5772221a5ea5": {
     "id": "d16b44e6-f5d8-4a4a-9f94-5772221a5ea5",
     "prev": "d095e05f-b05e-44bb-a360-13cf44d7c1ca",
     "regions": {
      "bcfa8d43-6d5c-4cd1-b2fb-6240059e4c08": {
       "attrs": {
        "height": 0.8,
        "width": 0.8,
        "x": 0.1,
        "y": 0.1
       },
       "content": {
        "cell": "494e99f1-4c86-4058-9da1-6e1601f03815",
        "part": "whole"
       },
       "id": "bcfa8d43-6d5c-4cd1-b2fb-6240059e4c08"
      }
     }
    },
    "d9f0393f-05cd-40f0-a640-c17d0564a8ac": {
     "id": "d9f0393f-05cd-40f0-a640-c17d0564a8ac",
     "prev": "a29a8b5f-8a3e-4d45-8e65-fc82c331f130",
     "regions": {
      "f28b7f9b-e400-4f53-9674-aa0272a17317": {
       "attrs": {
        "height": 0.8,
        "width": 0.8,
        "x": 0.1,
        "y": 0.1
       },
       "content": {
        "cell": "8dfbd980-577f-4976-b833-7827cf4c1990",
        "part": "whole"
       },
       "id": "f28b7f9b-e400-4f53-9674-aa0272a17317"
      }
     }
    },
    "f1197a9c-4c13-46fa-9cb8-8df66b3f1b51": {
     "id": "f1197a9c-4c13-46fa-9cb8-8df66b3f1b51",
     "prev": "a9cd7950-5f54-424e-bcbe-4fa967ab8aec",
     "regions": {
      "1e1a417b-9b70-4ae0-a977-f9b8bfdcc12f": {
       "attrs": {
        "height": 0.8,
        "width": 0.8,
        "x": 0.1,
        "y": 0.1
       },
       "content": {
        "cell": "49d93775-73fa-4538-99e3-bd57bee0686f",
        "part": "whole"
       },
       "id": "1e1a417b-9b70-4ae0-a977-f9b8bfdcc12f"
      }
     }
    },
    "f3afc619-bc38-4df2-b141-9ecd4ab0d5f2": {
     "id": "f3afc619-bc38-4df2-b141-9ecd4ab0d5f2",
     "prev": "381f71a2-9abb-41aa-b189-971cea6d5f8c",
     "regions": {
      "7adc63d9-7cda-4d5c-92c1-6bb3d46a4aa0": {
       "attrs": {
        "height": 0.8,
        "width": 0.8,
        "x": 0.1,
        "y": 0.1
       },
       "content": {
        "cell": "08b0bc0c-353c-4b20-b871-d577b9bd27bc",
        "part": "whole"
       },
       "id": "7adc63d9-7cda-4d5c-92c1-6bb3d46a4aa0"
      }
     }
    }
   },
   "themes": {}
  }
 },
 "nbformat": 4,
 "nbformat_minor": 1
}
